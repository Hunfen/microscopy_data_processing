{
 "metadata": {
  "language_info": {
   "codemirror_mode": {
    "name": "ipython",
    "version": 3
   },
   "file_extension": ".py",
   "mimetype": "text/x-python",
   "name": "python",
   "nbconvert_exporter": "python",
   "pygments_lexer": "ipython3",
   "version": "3.8.6-final"
  },
  "orig_nbformat": 2,
  "kernelspec": {
   "name": "python3",
   "display_name": "Python 3.8.6 64-bit",
   "metadata": {
    "interpreter": {
     "hash": "aee8b7b246df8f9039afb4144a1f6fd8d2ca17a180786b69acc140d282b71a49"
    }
   }
  }
 },
 "nbformat": 4,
 "nbformat_minor": 2,
 "cells": [
  {
   "cell_type": "code",
   "execution_count": 2,
   "metadata": {},
   "outputs": [
    {
     "output_type": "stream",
     "name": "stdout",
     "text": [
      "Processing Pages: 16/16...\n",
      "--------------------------------------------------\n",
      "Terminated in 10.634974161999708s.\n"
     ]
    }
   ],
   "source": [
    "from pdf2docx import parse\n",
    "\n",
    "pdf_file = '/Users/hunfen/Downloads/1_陕卫中医药发[2020]54号.pdf'\n",
    "docx_file = '/Users/hunfen/Downloads/1_陕卫中医药发[2020]54号.docx'\n",
    "\n",
    "# convert pdf to docx\n",
    "parse(pdf_file, docx_file)"
   ]
  },
  {
   "cell_type": "code",
   "execution_count": null,
   "metadata": {},
   "outputs": [],
   "source": []
  }
 ]
}