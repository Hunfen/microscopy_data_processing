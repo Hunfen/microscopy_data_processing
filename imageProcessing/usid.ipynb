{
 "metadata": {
  "language_info": {
   "codemirror_mode": {
    "name": "ipython",
    "version": 3
   },
   "file_extension": ".py",
   "mimetype": "text/x-python",
   "name": "python",
   "nbconvert_exporter": "python",
   "pygments_lexer": "ipython3",
   "version": "3.8.6-final"
  },
  "orig_nbformat": 2,
  "kernelspec": {
   "name": "Python 3.8.6 64-bit",
   "display_name": "Python 3.8.6 64-bit",
   "metadata": {
    "interpreter": {
     "hash": "aee8b7b246df8f9039afb4144a1f6fd8d2ca17a180786b69acc140d282b71a49"
    }
   }
  }
 },
 "nbformat": 4,
 "nbformat_minor": 2,
 "cells": [
  {
   "cell_type": "code",
   "execution_count": 107,
   "metadata": {},
   "outputs": [],
   "source": [
    "import h5py\n",
    "import numpy as np\n",
    "import pyUSID as usid\n",
    "import matplotlib.pyplot as plt\n",
    "import sidpy\n",
    "import re"
   ]
  },
  {
   "cell_type": "code",
   "execution_count": 120,
   "metadata": {},
   "outputs": [],
   "source": [
    "_end_tags = dict(grid = ':HEADER_END:',\n",
    "                 scan = ':SCANIT_END:',\n",
    "                 spec = '[DATA]'\n",
    "                 )\n",
    "file_path = '/Users/hunfen/OneDrive/General Files/STM1500_Nanonis_data/2020/2020-10-12/Topography010.sxm'"
   ]
  },
  {
   "cell_type": "code",
   "execution_count": 121,
   "metadata": {},
   "outputs": [],
   "source": [
    "def header_reader(fname):\n",
    "    '''\n",
    "    Read the sxm file header into dictionary. Header entries\n",
    "    as dict keys, and header contents as dict values.\n",
    "\n",
    "    Parameters\n",
    "    ----------------\n",
    "    fname : .sxm file path.\n",
    "\n",
    "    Return\n",
    "    ----------------\n",
    "    header : header dict file. \n",
    "    '''\n",
    "    header_end = False # file_handler\n",
    "    key = '' # Header_dict_key\n",
    "    contents = '' # Header_data_buffer\n",
    "    header = {} # Header_dict\n",
    "    #Nanonis_header_regex = ':\\w+([_>-]\\w+[/ ]?\\w+:)?'\n",
    "    with open(fname, 'rb') as f:\n",
    "        while not header_end:\n",
    "            line = f.readline().decode(encoding = 'utf-8', errors = 'replace')\n",
    "            if re.match(':SCANIT_END:\\n',\n",
    "                        line\n",
    "                        ):\n",
    "                header_end = True\n",
    "            elif re.match(':.+:',\n",
    "                          line\n",
    "                          ):\n",
    "                key = line[1:-2] # Read header_entry\n",
    "                content = ''     # Clear \n",
    "            else:\n",
    "                content += line\n",
    "                # remove EOL\n",
    "                header[key] = content.strip('\\n') \n",
    "    return header"
   ]
  },
  {
   "cell_type": "code",
   "execution_count": 122,
   "metadata": {},
   "outputs": [
    {
     "output_type": "execute_result",
     "data": {
      "text/plain": [
       "{'NANONIS_VERSION': '2',\n",
       " 'SCANIT_TYPE': '              FLOAT            MSBFIRST',\n",
       " 'REC_DATE': ' 12.10.2020',\n",
       " 'REC_TIME': '19:33:52',\n",
       " 'REC_TEMP': '      290.0000000000',\n",
       " 'ACQ_TIME': '       511.2',\n",
       " 'SCAN_PIXELS': '       256       256',\n",
       " 'SCAN_FILE': 'C:\\\\Users\\\\Touru Hirahara\\\\Desktop\\\\data\\\\2020\\\\2020-10-12\\\\Topography010.sxm',\n",
       " 'SCAN_TIME': '             9.984E-1             9.984E-1',\n",
       " 'SCAN_RANGE': '           5.000000E-8           5.000000E-8',\n",
       " 'SCAN_OFFSET': '             1.856870E-7         1.155498E-7',\n",
       " 'SCAN_ANGLE': '            0.000E+0',\n",
       " 'SCAN_DIR': 'down',\n",
       " 'BIAS': '            2.000E+0',\n",
       " 'Z-CONTROLLER': '\\tName\\ton\\tSetpoint\\tP-gain\\tI-gain\\tT-const\\n\\tlog Current\\t1\\t1.000E-10 A\\t3.500E-12 m\\t2.200E-7 m/s\\t1.591E-5 s',\n",
       " 'COMMENT': 'Si 7x7',\n",
       " 'Scan>Scanfield': '185.687E-9;115.55E-9;50E-9;50E-9;0E+0',\n",
       " 'Scan>series name': 'Topography',\n",
       " 'Scan>channels': 'Current (A);Z (m)',\n",
       " 'Scan>pixels/line': '256',\n",
       " 'Scan>lines': '256',\n",
       " 'Scan>speed forw. (m/s)': '50.0801E-9',\n",
       " 'Scan>speed backw. (m/s)': '50.0801E-9',\n",
       " 'DATA_INFO': '\\tChannel\\tName\\tUnit\\tDirection\\tCalibration\\tOffset\\n\\t14\\tZ\\tm\\tboth\\t1.291E-8\\t0.000E+0\\n\\t0\\tCurrent\\tA\\tboth\\t1.000E-10\\t0.000E+0'}"
      ]
     },
     "metadata": {},
     "execution_count": 122
    }
   ],
   "source": [
    "header_reader(file_path)"
   ]
  },
  {
   "cell_type": "code",
   "execution_count": 126,
   "metadata": {},
   "outputs": [],
   "source": [
    "# Header reform\n",
    "def header_reform(header):\n",
    "    \"\"\" \n",
    "    Reform the header which is obtained from NANONIS .sxm file.\n",
    "\n",
    "    Parameter\n",
    "    ---------\n",
    "    header : header dict\n",
    "\n",
    "    Returns\n",
    "    -------\n",
    "    header : reformed header dict\n",
    "    \"\"\"\n",
    "    # HEADER_CLASSIFICATION\n",
    "    trash_bin = ['NANONIS_VERSION',\n",
    "                 'SCANIT_TYPE',\n",
    "                 'REC_TEMP',\n",
    "                 'SCAN_PIXELS',\n",
    "                 'SCAN_TIME',\n",
    "                 'SCAN_RANGE',\n",
    "                 'SCAN_OFFSET',\n",
    "                 'SCAN_ANGLE',\n",
    "                 'Scan>channels'\n",
    "                 ]\n",
    "    scan_info_str = ['REC_DATE',\n",
    "                     'REC_TIME',\n",
    "                     'SCAN_FILE',\n",
    "                     'SCAN_DIR',\n",
    "                     'COMMENT'\n",
    "             ]\n",
    "    scan_info_float = ['BIAS',\n",
    "                       'ACQ_TIME',\n",
    "                       'Scan>pixels/line',\n",
    "                       'Scan>lines',\n",
    "                       'Scan>speed forw. (m/s)',\n",
    "                       'Scan>speed backw. (m/s)'\n",
    "                       ]\n",
    "    table = ['Scan>Scanfield',\n",
    "             'Z-CONTROLLER',\n",
    "             'DATA_INFO'\n",
    "             ]\n",
    "    scan_field_key = ['X_OFFSET',\n",
    "                      'Y_OFFSET',\n",
    "                      'X_RANGE',\n",
    "                      'Y_RANGE',\n",
    "                      'ANGLE'\n",
    "                      ]\n",
    "    # Clear redundant header entries\n",
    "    for i in range(len(trash_bin)):\n",
    "        header.pop(trash_bin[i])\n",
    "\n",
    "    # Clear redundant space in scan_info_str\n",
    "    for j in range(len(scan_info_str)):\n",
    "        header[scan_info_str[j]] = header[scan_info_str[j]].strip(' ')\n",
    "    \n",
    "    # Transform scan_info_float from str to float\n",
    "    for k in range(len(scan_info_float)):\n",
    "        header[scan_info_float[k]] = float(header[scan_info_float[k]])\n",
    "\n",
    "    # Transform table from str to dict\n",
    "    # SCAN_FIELD\n",
    "    scan_field = header['Scan>Scanfield'].split(';')\n",
    "\n",
    "    #  SCAN_FIELD dict\n",
    "    SCAN_FIELD = {}\n",
    "    for k in range(len(scan_field_key)):\n",
    "        SCAN_FIELD[scan_field_key[k]] = float(scan_field[k])\n",
    "\n",
    "    # CHANNEL_INFO\n",
    "    data_info = header['DATA_INFO'].split('\\n')\n",
    "    DATA_INFO = []\n",
    "    for row in data_info:\n",
    "        DATA_INFO.append(row.strip('\\t').split('\\t'))\n",
    "    # CHANNEL_INFO dict\n",
    "    key_list = DATA_INFO[0][1:]\n",
    "    channels = []\n",
    "    values = []\n",
    "    CHANNEL_INFO = {}\n",
    "    for i in range(1, len(DATA_INFO)):\n",
    "        channels.append(DATA_INFO[i][0])\n",
    "        values.append(DATA_INFO[i][1:])\n",
    "    for i in range(len(channels)):\n",
    "        chan_dict = {}\n",
    "        for j in range(len(key_list)):\n",
    "            chan_dict[key_list[j]] = values[i][j]\n",
    "        CHANNEL_INFO[channels[i]] = chan_dict\n",
    "    # Z_CONTROLLER_INFO\n",
    "    Z_Controller = header['Z-CONTROLLER'].split('\\n')\n",
    "    Controller_config = []\n",
    "    for row in Z_Controller:\n",
    "        Controller_config.append(row.strip('\\t').split('\\t'))\n",
    "    # CONTROLLER_INFO dict\n",
    "    CONTROLLER_INFO = {}\n",
    "    for i in range(len(Controller_config[0])):\n",
    "        CONTROLLER_INFO[Controller_config[0][i]] = Controller_config[1][i]\n",
    "\n",
    "    # Substitute table dict\n",
    "    for j in range(len(table)):\n",
    "        header.pop(table[j])\n",
    "    header['SCAN_FILED'] = SCAN_FIELD\n",
    "    header['CONTROLLER_INFO'] = CONTROLLER_INFO\n",
    "    header['CHANNEL_INFO'] = CHANNEL_INFO\n",
    "    return header"
   ]
  },
  {
   "cell_type": "code",
   "execution_count": 127,
   "metadata": {},
   "outputs": [],
   "source": [
    "# Extract file header of .sxm file\n",
    "sxm_header = header_reform(header_reader(file_path))"
   ]
  },
  {
   "cell_type": "code",
   "execution_count": 141,
   "metadata": {},
   "outputs": [
    {
     "output_type": "execute_result",
     "data": {
      "text/plain": [
       "{'REC_DATE': '12.10.2020',\n",
       " 'REC_TIME': '19:33:52',\n",
       " 'ACQ_TIME': 511.2,\n",
       " 'SCAN_FILE': 'C:\\\\Users\\\\Touru Hirahara\\\\Desktop\\\\data\\\\2020\\\\2020-10-12\\\\Topography010.sxm',\n",
       " 'SCAN_DIR': 'down',\n",
       " 'BIAS': 2.0,\n",
       " 'COMMENT': 'Si 7x7',\n",
       " 'Scan>series name': 'Topography',\n",
       " 'Scan>pixels/line': 256.0,\n",
       " 'Scan>lines': 256.0,\n",
       " 'Scan>speed forw. (m/s)': 5.00801e-08,\n",
       " 'Scan>speed backw. (m/s)': 5.00801e-08,\n",
       " 'SCAN_FILED': {'X_OFFSET': 1.85687e-07,\n",
       "  'Y_OFFSET': 1.1555e-07,\n",
       "  'X_RANGE': 5e-08,\n",
       "  'Y_RANGE': 5e-08,\n",
       "  'ANGLE': 0.0},\n",
       " 'CONTROLLER_INFO': {'Name': 'log Current',\n",
       "  'on': '1',\n",
       "  'Setpoint': '1.000E-10 A',\n",
       "  'P-gain': '3.500E-12 m',\n",
       "  'I-gain': '2.200E-7 m/s',\n",
       "  'T-const': '1.591E-5 s'},\n",
       " 'CHANNEL_INFO': {'14': {'Name': 'Z',\n",
       "   'Unit': 'm',\n",
       "   'Direction': 'both',\n",
       "   'Calibration': '1.291E-8',\n",
       "   'Offset': '0.000E+0'},\n",
       "  '0': {'Name': 'Current',\n",
       "   'Unit': 'A',\n",
       "   'Direction': 'both',\n",
       "   'Calibration': '1.000E-10',\n",
       "   'Offset': '0.000E+0'}}}"
      ]
     },
     "metadata": {},
     "execution_count": 141
    }
   ],
   "source": [
    "sxm_header"
   ]
  },
  {
   "cell_type": "code",
   "execution_count": 136,
   "metadata": {},
   "outputs": [
    {
     "output_type": "execute_result",
     "data": {
      "text/plain": [
       "dict_keys(['14', '0'])"
      ]
     },
     "metadata": {},
     "execution_count": 136
    }
   ],
   "source": [
    "a = sxm_header['CHANNEL_INFO']\n",
    "a.keys()"
   ]
  },
  {
   "cell_type": "code",
   "execution_count": 114,
   "metadata": {},
   "outputs": [],
   "source": [
    "def data_type(dstr):\n",
    "    '''\n",
    "    to determine the type of data, and transform to proper fomation.\n",
    "    \n",
    "    Parameter\n",
    "    --------------\n",
    "    dstr : string read from file_header.\n",
    "\n",
    "    Return\n",
    "    --------------\n",
    "    data : transformed data.\n",
    "    '''\n",
    "\n",
    "    scinot = '[+-]?\\d+(?:\\.\\d+)[eE][+-]?\\d{1,2}'\n",
    "    digits = '[+-]?[0-9]*[.]{0,1}[0-9]+'\n",
    "    #integer = '(\\s\\d+\\s)'\n",
    "\n",
    "    # Scientific notation?\n",
    "    if re.search(scinot, dstr) != None: # if Scientific notation ?\n",
    "        return re.findall(scinot, dstr)\n",
    "    elif re.search(digits, dstr) != None: # if digits?\n",
    "        return re.findall(digits, dstr)\n",
    "    else:\n",
    "        return dstr"
   ]
  },
  {
   "cell_type": "code",
   "execution_count": 115,
   "metadata": {},
   "outputs": [],
   "source": [
    "def channels_counts(channel_info_dict):\n",
    "    chal_counts = 0\n",
    "    for chal in channel_info_dict.keys():\n",
    "        if channel_info_dict[chal]['Direction'] == 'both':\n",
    "            chal_counts += 2\n",
    "        else:\n",
    "            chal_counts += 1\n",
    "    return chal_counts"
   ]
  },
  {
   "cell_type": "code",
   "execution_count": 116,
   "metadata": {},
   "outputs": [
    {
     "output_type": "error",
     "ename": "SyntaxError",
     "evalue": "invalid syntax (<ipython-input-116-3695b047f1b7>, line 8)",
     "traceback": [
      "\u001b[0;36m  File \u001b[0;32m\"<ipython-input-116-3695b047f1b7>\"\u001b[0;36m, line \u001b[0;32m8\u001b[0m\n\u001b[0;31m    y_vec = np.linspace(,num_rows, endpoint = True)\u001b[0m\n\u001b[0m                        ^\u001b[0m\n\u001b[0;31mSyntaxError\u001b[0m\u001b[0;31m:\u001b[0m invalid syntax\n"
     ]
    }
   ],
   "source": [
    "num_rows = int(sxm_header['Scan>lines'])\n",
    "num_cols = int(sxm_header['Scan>pixels/line'])\n",
    "num_pos = num_cols * num_rows\n",
    "channel_length = channels_counts(CHANNEL_INFO)\n",
    "\n",
    "y_qty = 'Y'\n",
    "y_units = 'm'\n",
    "y_vec = np.linspace(,num_rows, endpoint = True)"
   ]
  },
  {
   "cell_type": "code",
   "execution_count": 137,
   "metadata": {},
   "outputs": [],
   "source": [
    "a = (2, 2, 256, 256)"
   ]
  },
  {
   "cell_type": "code",
   "execution_count": 138,
   "metadata": {},
   "outputs": [
    {
     "output_type": "stream",
     "name": "stdout",
     "text": [
      "(2, 2, 256, 256)\n"
     ]
    }
   ],
   "source": [
    "print(a)"
   ]
  },
  {
   "cell_type": "code",
   "execution_count": 165,
   "metadata": {},
   "outputs": [],
   "source": [
    "def channels_counts(header):\n",
    "    '''\n",
    "    Determine the dimensions of raw_data.\n",
    "    \n",
    "    Parameter\n",
    "    ---------\n",
    "    header : reformed .sxm file header\n",
    "     \n",
    "     Return\n",
    "     ------\n",
    "     dimension : return dimension of raw_data (tuple)\n",
    "    '''\n",
    "    \n",
    "    channels = header['CHANNEL_INFO']\n",
    "    keys = channels.keys()\n",
    "    dir_l = []\n",
    "    counts = 0\n",
    "    for i in keys:\n",
    "        dir_l.append(channels[i]['Direction'])\n",
    "    if 'both' in dir_l:\n",
    "        counts = 2\n",
    "    else:\n",
    "        counts = 1\n",
    "    dimension = (len(keys), counts, int(header['Scan>pixels/line']), int(header['Scan>lines']))\n",
    "    return dimension"
   ]
  },
  {
   "cell_type": "code",
   "execution_count": 168,
   "metadata": {},
   "outputs": [
    {
     "output_type": "stream",
     "name": "stdout",
     "text": [
      "(2, 2, 256, 256)\n"
     ]
    }
   ],
   "source": [
    "a = channels_counts(sxm_header)\n",
    "print(a)"
   ]
  },
  {
   "cell_type": "code",
   "execution_count": 170,
   "metadata": {},
   "outputs": [
    {
     "output_type": "execute_result",
     "data": {
      "text/plain": [
       "2"
      ]
     },
     "metadata": {},
     "execution_count": 170
    }
   ],
   "source": []
  },
  {
   "cell_type": "code",
   "execution_count": null,
   "metadata": {},
   "outputs": [],
   "source": []
  }
 ]
}