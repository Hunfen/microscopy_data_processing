{
 "metadata": {
  "language_info": {
   "codemirror_mode": {
    "name": "ipython",
    "version": 3
   },
   "file_extension": ".py",
   "mimetype": "text/x-python",
   "name": "python",
   "nbconvert_exporter": "python",
   "pygments_lexer": "ipython3",
   "version": "3.8.6-final"
  },
  "orig_nbformat": 2,
  "kernelspec": {
   "name": "Python 3.8.6 64-bit",
   "display_name": "Python 3.8.6 64-bit",
   "metadata": {
    "interpreter": {
     "hash": "aee8b7b246df8f9039afb4144a1f6fd8d2ca17a180786b69acc140d282b71a49"
    }
   }
  }
 },
 "nbformat": 4,
 "nbformat_minor": 2,
 "cells": [
  {
   "cell_type": "code",
   "execution_count": null,
   "metadata": {},
   "outputs": [],
   "source": [
    "import numpy as np\n",
    "from matplotlib import pyplot as plt\n",
    "from matplotlib import ticker\n",
    "import skimage\n",
    "from skimage.io import imread\n",
    "from skimage import filters\n",
    "import ipywidgets as widgets\n",
    "import pandas"
   ]
  },
  {
   "cell_type": "code",
   "execution_count": null,
   "metadata": {},
   "outputs": [],
   "source": [
    "FeSe_10x10 = skimage.img_as_float(skimage.color.rgb2gray(FeSe_10x10))\n",
    "fig, axis = plt.subplots()\n",
    "axis.imshow(FeSe_10x10, cmap = 'gray')\n",
    "axis.set_xticks([])\n",
    "axis.set_yticks([]);"
   ]
  },
  {
   "cell_type": "code",
   "execution_count": null,
   "metadata": {},
   "outputs": [],
   "source": [
    "def viz_filter_effect(gaus_sigma): \n",
    "    gaus_sigma = gaus_sigma\n",
    "    gaussian_filtered = filters.gaussian(FeSe_10x10, sigma=gaus_sigma)\n",
    "    fft_raw = np.fft.fftshift(np.fft.fft2(FeSe_10x10))\n",
    "    fft_gaus_filt = np.fft.fftshift(np.fft.fft2(gaussian_filtered))\n",
    "    noise_rem = FeSe_10x10 - gaussian_filtered\n",
    "    fft_noise_rem = np.fft.fftshift(np.fft.fft2(noise_rem))\n",
    "    \n",
    "    fig, axes = plt.subplots(ncols=3, nrows=2, figsize=(20, 10))\n",
    "    axes[0,0].imshow(FeSe_10x10, cmap='gist_heat')\n",
    "    axes[0,0].set_title('Original Real Image')\n",
    "    axes[0,1].imshow(gaussian_filtered, cmap='gist_heat')\n",
    "    axes[0,1].set_title('Gaussian-filtered Real Image, Sigma = {}'.format(gaus_sigma))\n",
    "    axes[0,2].imshow(noise_rem, cmap='gist_heat')\n",
    "    axes[0,2].set_title('Removed noise');\n",
    "    axes[1,0].imshow(np.log10(np.abs(fft_raw)), cmap=plt.cm.OrRd)\n",
    "    axes[1,0].set_title('Original Frequency Image');\n",
    "    axes[1,1].imshow(np.log10(np.abs(fft_gaus_filt)), cmap=plt.cm.OrRd)\n",
    "    axes[1,1].set_title('Gaussian-filtered Frequency Image, Sigma ={}'.format(gaus_sigma))\n",
    "    axes[1,2].imshow(np.log10(np.abs(fft_noise_rem)), cmap=plt.cm.OrRd)\n",
    "    axes[1,2].set_title('Removed Noise')\n",
    "    fig.tight_layout();"
   ]
  },
  {
   "cell_type": "code",
   "execution_count": null,
   "metadata": {},
   "outputs": [],
   "source": [
    "gaus_slide = widgets.FloatSlider(min = 0, max = 10, description = 'Sigma', continous_update = True)\n",
    "widgets.interact(viz_filter_effect, gaus_sigma=gaus_slide, continuous_update=True);"
   ]
  },
  {
   "cell_type": "code",
   "execution_count": null,
   "metadata": {},
   "outputs": [],
   "source": [
    "gaussian_filtered = filters.gaussian(FeSe_10x10, sigma =  0.9)\n",
    "fig, axes = plt.subplots(ncols = 2, figsize = (10, 5))\n",
    "axes[0].imshow(gaussian_filtered, cmap = 'afmhot', vmin = [0, 1])"
   ]
  },
  {
   "cell_type": "code",
   "execution_count": null,
   "metadata": {},
   "outputs": [],
   "source": [
    "fig, axes = plt.subplots(ncols = 2, figsize = (10, 5))\n",
    "im_handle = axes[0].imshow(a, extent = (0, 200, 0, 200), cmap = 'YlOrRd')\n",
    "axes[0].set_xticks([])\n",
    "axes[0].set_yticks([])\n",
    "axes[0].plot([150, 190], [12, 12], ls = '-', lw = 4, color = 'black')\n",
    "axes[0].text(155, 15, '1nm', fontsize = 18)\n",
    "\n",
    "fft_raw = np.fft.fftshift(np.fft.fft2(a))\n",
    "im_handle_1 = axes[1].imshow(np.log10(np.abs(fft_raw)), cmap = 'YlOrRd', vmin = [3, 4])\n",
    "axes[1].set_xticks([])\n",
    "axes[1].set_yticks([])\n",
    "\n",
    "fig.tight_layout()\n",
    "'''\n",
    "fig.savefig('/Users/hunfen/OneDrive/General Files/ゼミー/20201009/topo_1UC_120pm_FeSe.jpg', dpi = 600, edgecolor = 'black' )\n",
    "'''\n"
   ]
  },
  {
   "cell_type": "code",
   "execution_count": null,
   "metadata": {},
   "outputs": [],
   "source": [
    "b = np.log10(np.abs(fft_gaus_filt))\n",
    "b.max()"
   ]
  },
  {
   "cell_type": "code",
   "execution_count": null,
   "metadata": {},
   "outputs": [],
   "source": [
    "spec = np.genfromtxt('/Users/hunfen/OneDrive/General Files/ゼミー/20201009/spec_FeSe_1V.txt', delimiter = ';')"
   ]
  },
  {
   "cell_type": "code",
   "execution_count": null,
   "metadata": {},
   "outputs": [],
   "source": [
    "type(spec)"
   ]
  },
  {
   "cell_type": "code",
   "execution_count": null,
   "metadata": {},
   "outputs": [],
   "source": [
    "spec.shape\n",
    "num_col, num_vol = spec.shape"
   ]
  },
  {
   "cell_type": "code",
   "execution_count": null,
   "metadata": {},
   "outputs": [],
   "source": [
    "i = 1\n",
    "for j in range(3, num_vol - 1):\n",
    "    if j % 2 == 1:\n",
    "        spec[:, 1] += spec[:, j]\n",
    "        i += 1\n",
    "spec[:, 1] = spec[:, 1] / i"
   ]
  },
  {
   "cell_type": "code",
   "execution_count": null,
   "metadata": {
    "tags": []
   },
   "outputs": [],
   "source": [
    "spec_vol_shifted = (spec[:, 0] - 0.004)\n",
    "fig, axis = plt.subplots(figsize = (5, 5))\n",
    "axis.plot(spec_vol_shifted[30: 410], spec[30: 410, 1], ls = '-', lw = 3, color = 'black')\n",
    "\n",
    "#axis.xaxis.set_ticklabels([-0.6, -0.4, -0.2, 0, 0.2, 0.4, 0.6],font = 'times', fontsize = 14)\n",
    "#axis.yaxis.set_ticklabels([0, 0, 0.2, 0.4, 0.6, 0.8, 1.0,1.2],font = 'times', fontsize = 14)\n",
    "axis.axhline(y = 0, color = 'black', lw = 1)\n",
    "axis.set_xlabel('Bias(V)', font = 'times', fontsize = 18)\n",
    "axis.set_ylabel('dI/dV(a.u.)', font = 'times', fontsize = 18)\n",
    "\n",
    "fig.tight_layout();\n",
    "\n",
    "fig.savefig('/Users/hunfen/OneDrive/General Files/ゼミー/20201009/spec_FeSe_1V.jpg', dpi = 600)\n",
    "\n"
   ]
  },
  {
   "cell_type": "code",
   "execution_count": null,
   "metadata": {},
   "outputs": [],
   "source": [
    "FeSe_100 = np.genfromtxt('/Users/hunfen/OneDrive/General Files/ゼミー/20201009/topo_1UC_FeSe_100.txt', delimiter = '\\t' )\n",
    "FeSe_100 = FeSe_100 - FeSe_100.min()\n",
    "FeSe_100 = FeSe_100 * 1e12"
   ]
  },
  {
   "cell_type": "code",
   "execution_count": null,
   "metadata": {},
   "outputs": [],
   "source": [
    "FeSe_100.max()"
   ]
  },
  {
   "cell_type": "code",
   "execution_count": null,
   "metadata": {
    "tags": []
   },
   "outputs": [],
   "source": [
    "fig, axes = plt.subplots(ncols = 2, figsize = (10, 5))\n",
    "# topo\n",
    "axes[0].imshow(FeSe_100, cmap = 'YlOrBr', vmin = [0, 500])\n",
    "axes[0].set_xlabel('100 \\u2A2F 100 ${nm^2}$', fontsize = 24)\n",
    "axes[0].set_xticks([])\n",
    "axes[0].set_yticks([])\n",
    "\n",
    "# 比例尺\n",
    "axes[0].plot([98, 123.6], [120, 120], ls = '-', lw = 4, color = 'black')\n",
    "axes[0].text(100, 118, '20nm', fontsize = 18)\n",
    "\n",
    "# Line profile\n",
    "section_x = 60\n",
    "axes[0].axhline(y = section_x, ls = '--', lw = 2, color = 'black')\n",
    "axes[1].plot(np.linspace(0, 100, 128),np.squeeze(FeSe_100[section_x, :] - 40), color = 'black')\n",
    "axes[1].set_xlabel('X', fontsize = 16)\n",
    "axes[1].set_ylabel('Height(pm)', fontsize = 16)\n",
    "\n",
    "fig.tight_layout()"
   ]
  },
  {
   "cell_type": "code",
   "execution_count": null,
   "metadata": {},
   "outputs": [],
   "source": [
    "'\\u2A2F' # 叉乘"
   ]
  },
  {
   "cell_type": "code",
   "execution_count": null,
   "metadata": {
    "tags": []
   },
   "outputs": [],
   "source": [
    "spec_2UC_FeSe = np.genfromtxt('/Users/hunfen/OneDrive/General Files/ゼミー/20201009/spec_2UC_FeSe_50mV.txt', delimiter = ';')\n",
    "topo_2UC_FeSe = np.genfromtxt('/Users/hunfen/OneDrive/General Files/ゼミー/20201009/topo_2UC_FeSe_10.txt', delimiter = '\\t')\n",
    "print('spec shape: {}'.format(spec_2UC_FeSe.shape))\n",
    "print('topo shape: {}'.format(topo_2UC_FeSe.shape))"
   ]
  },
  {
   "cell_type": "code",
   "execution_count": null,
   "metadata": {},
   "outputs": [],
   "source": [
    "# plot \n",
    "fig, axes = plt.subplots(ncols = 2, figsize = (10, 5))\n",
    "\n",
    "# topo plot\n",
    "axes[0].imshow(topo_2UC_FeSe, cmap = 'YlOrBr')\n",
    "axes[0].set_xlabel('10 \\u2A2F 10 ${nm^2}$', fontsize = 24)\n",
    "axes[0].axhline(y = 0, color = 'black', lw = 1)\n",
    "axes[0].set_xticks([])\n",
    "axes[0].set_yticks([])\n",
    "\n",
    "#比例尺\n",
    "axes[0].plot([56, 120], [120, 120], ls = '-', lw = 4, color = 'black')\n",
    "axes[0].text(80, 118, '5nm', fontsize = 18)\n",
    "\n",
    "# spec plot\n",
    "axes[1].plot(spec_2UC_FeSe[:, 0], spec_2UC_FeSe[:, 1], ls = '-', lw = 3, color = 'black')\n",
    "axes[1].axhline(y = 0, color = 'black', lw = 1)\n",
    "axes[1].set_xlabel('Bias(mV)', fontsize = 18)\n",
    "axes[1].set_ylabel('dI/dV(a.u.)', fontsize = 18)\n",
    "axes[1].axhline(y = 0, color = 'black', lw = 1)\n",
    "\n",
    "fig.tight_layout();"
   ]
  },
  {
   "cell_type": "code",
   "execution_count": null,
   "metadata": {
    "tags": []
   },
   "outputs": [],
   "source": [
    "spec_1UC_FeSe_50mV = np.genfromtxt('/Users/hunfen/OneDrive/General Files/ゼミー/20201009/spec_1UC_FeSe_50mV.txt', delimiter = ';')\n",
    "spec_1UC_120pm_FeSe_50mV = np.genfromtxt('/Users/hunfen/OneDrive/General Files/ゼミー/20201009/spec_1UC_120pm_FeSe_50mV.txt', delimiter = ';')\n",
    "\n",
    "print(spec_1UC_FeSe_50mV.shape)\n",
    "print(spec_1UC_120pm_FeSe_50mV.shape)"
   ]
  },
  {
   "cell_type": "code",
   "execution_count": null,
   "metadata": {},
   "outputs": [],
   "source": [
    "# specs average\n",
    "spec_1UC_FeSe_50mV_avg = np.zeros(329)\n",
    "spec_1UC_120pm_FeSe_50mV_avg = np.zeros(329)\n",
    "i = 0\n",
    "for j in range(0, 127):\n",
    "    if j % 2 == 1:\n",
    "        spec_1UC_FeSe_50mV_avg += spec_1UC_FeSe_50mV[:, j]\n",
    "        spec_1UC_120pm_FeSe_50mV_avg += spec_1UC_120pm_FeSe_50mV[:, j]\n",
    "        i += 1\n",
    "#spec_1UC_FeSe_1V_avg = spec_1UC_FeSe_1V_avg / i\n",
    "#spec_1UC_120pm_FeSe_1V_avg = spec_1UC_120pm_FeSe_1V_avg / i\n",
    "\n",
    "# spec shift\n",
    "spec_1UC_FeSe_50mV[:, 0] = (spec_1UC_FeSe_50mV[:, 0] - 0.004) * 1e3\n",
    "spec_1UC_120pm_FeSe_50mV[:, 0] = (spec_1UC_120pm_FeSe_50mV[:, 0] - 0.004) * 1e3\n",
    "\n",
    "#normalization\n",
    "spec_1UC_FeSe_50mV_avg = spec_1UC_FeSe_50mV_avg / spec_1UC_FeSe_50mV_avg.max()\n",
    "spec_1UC_120pm_FeSe_50mV_avg = spec_1UC_120pm_FeSe_50mV_avg / spec_1UC_120pm_FeSe_50mV_avg.max()"
   ]
  },
  {
   "cell_type": "code",
   "execution_count": null,
   "metadata": {
    "tags": []
   },
   "outputs": [],
   "source": [
    "\n",
    "fig, axis = plt.subplots(figsize = (5, 5))\n",
    "\n",
    "axis.axhline(y = 0, color = 'black', lw = 1)\n",
    "\n",
    "# spec plot 1UC\n",
    "axis.plot(spec_1UC_FeSe_50mV[:, 0], spec_1UC_FeSe_50mV_avg, ls = '-', lw = 3, label = '1UC', color = 'black')\n",
    "axis.set_xlabel('Bias(mV)', fontsize = 18)\n",
    "axis.set_ylabel('dI/dV(a.u.)', fontsize = 18)\n",
    "axis.axhline(y = 0, color = 'black', lw = 1)\n",
    "\n",
    "# spec plot 2UC\n",
    "axis.plot(spec_1UC_120pm_FeSe_50mV[30: 300, 0], spec_1UC_120pm_FeSe_50mV_avg[30: 300], label = '1UC + 120pm', ls = '-', lw = 3, color = 'red')\n",
    "\n",
    "# legend\n",
    "axis.legend()\n",
    "\n",
    "axis.set_title('Normalized Spectra', fontsize = 18)\n",
    "\n",
    "fig.tight_layout();\n",
    "'''\n",
    "fig, axis = plt.subplots(figsize = (5, 5))\n",
    "fig_1, axis_1 = plt.subplots(figsize = (5, 5))\n",
    "\n",
    "axis.axhline(y = 0, color = 'black', lw = 1)\n",
    "axis_1.axhline(y = 0, color = 'black', lw = 1)\n",
    "\n",
    "# spec plot 1UC\n",
    "axis.plot(spec_1UC_FeSe_1V[:, 0], spec_1UC_FeSe_1V_avg, ls = '-', lw = 3, label = '1UC', color = 'black')\n",
    "axis.set_xlabel('Bias(V)', fontsize = 18)\n",
    "axis.set_ylabel('dI/dV(a.u.)', fontsize = 18)\n",
    "\n",
    "\n",
    "# spec plot 2UC\n",
    "axis_1.plot(spec_1UC_120pm_FeSe_1V[:, 0], spec_1UC_120pm_FeSe_1V_avg, label = '1UC + 120pm', ls = '-', lw = 3, color = 'black')\n",
    "axis_1.set_xlabel('Bias(V)', fontsize = 18)\n",
    "axis_1.set_ylabel('dI/dV(a.u.)', fontsize = 18)\n",
    "\n",
    "\n",
    "fig.tight_layout()\n",
    "fig_1.tight_layout();\n",
    "'''"
   ]
  },
  {
   "cell_type": "code",
   "execution_count": null,
   "metadata": {},
   "outputs": [],
   "source": [
    "fig.savefig('/Users/hunfen/OneDrive/General Files/ゼミー/20201009/spec_1UC+120pm_FeSe_50mV_avg.jpg', dpi = 600)\n",
    "#fig_1.savefig('/Users/hunfen/OneDrive/General Files/ゼミー/20201009/spec_1UC_120pm_FeSe_1V_avg.jpg', dpi = 600)"
   ]
  },
  {
   "cell_type": "code",
   "execution_count": null,
   "metadata": {},
   "outputs": [],
   "source": [
    "topo_FeSe_500 = np.genfromtxt('/Users/hunfen/OneDrive/General Files/ゼミー/20201009/topo_FeSe_500_A30min.txt', delimiter = '\\t')\n",
    "spec_1UC_FeSe_1V_A30min = np.genfromtxt('/Users/hunfen/OneDrive/General Files/ゼミー/20201009/spec_1UC_FeSe_1V_A30min.txt', delimiter = ';')"
   ]
  },
  {
   "cell_type": "code",
   "execution_count": null,
   "metadata": {},
   "outputs": [],
   "source": [
    "spec_1UC_FeSe_1V_A30min.shape"
   ]
  },
  {
   "cell_type": "code",
   "execution_count": null,
   "metadata": {},
   "outputs": [],
   "source": [
    "# specs average\n",
    "i = 1\n",
    "for j in range(3, 8):\n",
    "    if j % 2 == 1:\n",
    "        spec_1UC_FeSe_1V_A30min[:, 1] += spec_1UC_FeSe_1V_A30min[:, j]\n",
    "        i += 1\n",
    "spec_1UC_FeSe_1V_A30min[:, 1] = spec_1UC_FeSe_1V_A30min[:, 1] / i\n",
    "\n",
    "# spec shift\n",
    "#spec_1UC_FeSe_1V_A30min[:, 0] = (spec_1UC_FeSe_1V_A30min[:, 0] - 0.004) \n",
    "\n",
    "# topo offset\n",
    "topo_FeSe_500 = topo_FeSe_500 - topo_FeSe_500.min()\n",
    "topo_FeSe_500 = topo_FeSe_500 * 1e9"
   ]
  },
  {
   "cell_type": "code",
   "execution_count": null,
   "metadata": {},
   "outputs": [],
   "source": [
    "fig, axes = plt.subplots(ncols = 2, figsize = (11, 5))\n",
    "im_handle = axes[0].imshow(topo_FeSe_500, cmap = 'afmhot')\n",
    "axes[0].set_xticks([])\n",
    "axes[0].set_yticks([])\n",
    "axes[0].set_xlabel('500 \\u2A2F 500 ${nm^2}$', fontsize = 24)\n",
    "\n",
    "# colorbar\n",
    "cbar = plt.colorbar(im_handle, ax = axis, fraction = 0.046, pad = 0.04)\n",
    "cbar.set_label('nm', fontsize = 14)\n",
    "\n",
    "# 比例尺\n",
    "axes[0].plot([94, 120], [120, 120], ls = '-', lw = 4, color = 'black')\n",
    "axes[0].text(97, 117, '100nm', fontsize = 12)\n",
    "\n",
    "axes[1].plot(spec_1UC_FeSe_1V_A30min[:, 0], spec_1UC_FeSe_1V_A30min[:, 1], ls = '-', lw = 3, label = '1UC', color = 'black')\n",
    "axes[1].set_xlabel('Bias(V)', fontsize = 18)\n",
    "axes[1].set_ylabel('dI/dV(a.u.)', fontsize = 18)\n",
    "axes[1].axhline(y = 0, color = 'black', lw = 1)\n",
    "\n",
    "\n",
    "fig.tight_layout();"
   ]
  },
  {
   "cell_type": "code",
   "execution_count": null,
   "metadata": {
    "tags": []
   },
   "outputs": [],
   "source": [
    "spec_1UC_FeSe_50mV = np.genfromtxt('/Users/hunfen/OneDrive/General Files/ゼミー/20201009/spec_1UC_FeSe_50mV.txt', delimiter = ';')\n",
    "print(spec_1UC_FeSe_50mV.shape)"
   ]
  },
  {
   "cell_type": "code",
   "execution_count": null,
   "metadata": {},
   "outputs": [],
   "source": [
    "# 全打印\n",
    "spec_1UC_FeSe_50mV[:, 0] = spec_1UC_FeSe_50mV[:, 0] * 1e3\n",
    "fig, axes = plt.subplots(nrows = 8, ncols= 8, figsize = (64, 64), sharex = True)\n",
    "\n",
    "for i in range(0, 127):\n",
    "    if i % 2 == 1:\n",
    "        continue\n",
    "    elif (i % 8) == 0:\n",
    "        axes[int(i / 2 / 8)][int(i / 2 % 8)].plot(spec_1UC_FeSe_50mV[:, 0], spec_1UC_FeSe_50mV[:, int(i + 1)], ls = '-', lw = 3, color = 'black', label = '{}'.format(int(i / 2 + 1)))\n",
    "        axes[int(i / 2 / 8)][int(i / 2 % 8)].set_xlabel('Bias(mV)', fontsize = 18)\n",
    "        axes[int(i / 2 / 8)][int(i / 2 % 8)].set_ylabel('dI/dV(a.u.)', fontsize = 18)\n",
    "        axes[int(i / 2 / 8)][int(i / 2 % 8)].axhline(y = 0, color = 'black', lw = 1)\n",
    "        axes[int(i / 2 / 8)][int(i / 2 % 8)].legend()\n",
    "    else:\n",
    "        axes[int(i / 2 / 8)][int(i / 2 % 8)].plot(spec_1UC_FeSe_50mV[:, 0], spec_1UC_FeSe_50mV[:, (i + 1)], ls = '-', lw = 3,  color = 'black', label = '{}'.format(int(i / 2 + 1)))\n",
    "        axes[int(i / 2 / 8)][int(i / 2 % 8)].set_xlabel('Bias(mV)', fontsize = 18)\n",
    "        axes[int(i / 2 / 8)][int(i / 2 % 8)].set_ylabel('dI/dV(a.u.)', fontsize = 18)\n",
    "        axes[int(i / 2 / 8)][int(i / 2 % 8)].axhline(y = 0, color = 'black', lw = 1)\n",
    "        axes[int(i / 2 / 8)][int(i / 2 % 8)].legend()\n",
    "\n",
    "fig.tight_layout();\n"
   ]
  },
  {
   "cell_type": "code",
   "execution_count": null,
   "metadata": {},
   "outputs": [],
   "source": [
    "j = 0\n",
    "spec_1UC_FeSe_50mV_avg = np.zeros(329)\n",
    "for i in range(0, 83):\n",
    "    if i % 2 == 1:\n",
    "        spec_1UC_FeSe_50mV_avg += spec_1UC_FeSe_50mV[:, i]\n",
    "        j += 1\n",
    "spec_1UC_FeSe_50mV_avg = spec_1UC_FeSe_50mV_avg / j\n",
    "spec_1UC_FeSe_50mV[:, 0] = (spec_1UC_FeSe_50mV[:, 0] - 0.006) * 1e3"
   ]
  },
  {
   "cell_type": "code",
   "execution_count": null,
   "metadata": {
    "tags": []
   },
   "outputs": [],
   "source": [
    "print(spec_1UC_FeSe_50mV_avg.shape)"
   ]
  },
  {
   "cell_type": "code",
   "execution_count": null,
   "metadata": {},
   "outputs": [],
   "source": [
    "fig, axis = plt.subplots(figsize = (5, 5))\n",
    "axis.plot(spec_1UC_FeSe_50mV[:, 0], spec_1UC_FeSe_50mV_avg, ls = '-', lw = 3, color = 'black')\n",
    "axis.set_xlabel('Bias(mV)', fontsize = 18)\n",
    "axis.set_ylabel('dI/dV(a.u.)', fontsize = 18)\n",
    "axis.axhline(y = 0, color = 'black', lw = 1);\n",
    "fig.tight_layout();"
   ]
  },
  {
   "cell_type": "code",
   "execution_count": null,
   "metadata": {
    "tags": []
   },
   "outputs": [],
   "source": [
    "spec_1UC_120pm_FeSe_1V = np.genfromtxt('/Users/hunfen/OneDrive/General Files/ゼミー/20201009/spec_1UC_120pm_FeSe_1V.txt', delimiter = ';')\n",
    "print(spec_1UC_120pm_FeSe_1V.shape)"
   ]
  },
  {
   "cell_type": "code",
   "execution_count": null,
   "metadata": {},
   "outputs": [],
   "source": [
    "spec_1UC_120pm_FeSe_1V_avg = np.zeros(411)\n",
    "j = 0\n",
    "for i in range(1, 127):\n",
    "    if i % 2 == 1:\n",
    "        spec_1UC_120pm_FeSe_1V_avg += spec_1UC_120pm_FeSe_1V[:, i]\n",
    "        j += 1\n",
    "    \n",
    "spec_1UC_120pm_FeSe_1V_avg = spec_1UC_120pm_FeSe_1V_avg / j * 2\n",
    "spec_1UC_120pm_FeSe_1V[:, 0] = (spec_1UC_120pm_FeSe_1V[:, 0] - 0.004)\n",
    "\n",
    "fig, axis = plt.subplots(figsize = (5, 5))\n",
    "axis.plot(spec_1UC_120pm_FeSe_1V[:, 0], spec_1UC_120pm_FeSe_1V_avg, ls = '-', lw = 3, color = 'black')\n",
    "axis.set_xlabel('Bias(V)', fontsize = 18)\n",
    "axis.set_ylabel('dI/dV(a.u.)', fontsize = 18)\n",
    "axis.axhline(y = 0, color = 'black', lw = 1);\n",
    "fig.tight_layout();"
   ]
  },
  {
   "cell_type": "code",
   "execution_count": null,
   "metadata": {},
   "outputs": [],
   "source": [
    "fig.savefig('/Users/hunfen/OneDrive/General Files/ゼミー/20201009/spec_1UC_120pm_FeSe_1V_avg.jpg', dpi = 600)"
   ]
  },
  {
   "cell_type": "code",
   "execution_count": null,
   "metadata": {},
   "outputs": [],
   "source": []
  }
 ]
}