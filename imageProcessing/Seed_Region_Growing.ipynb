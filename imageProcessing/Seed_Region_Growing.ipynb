{
 "metadata": {
  "language_info": {
   "codemirror_mode": {
    "name": "ipython",
    "version": 3
   },
   "file_extension": ".py",
   "mimetype": "text/x-python",
   "name": "python",
   "nbconvert_exporter": "python",
   "pygments_lexer": "ipython3",
   "version": "3.8.6-final"
  },
  "orig_nbformat": 2,
  "kernelspec": {
   "name": "python3",
   "display_name": "Python 3.8.6 64-bit",
   "metadata": {
    "interpreter": {
     "hash": "aee8b7b246df8f9039afb4144a1f6fd8d2ca17a180786b69acc140d282b71a49"
    }
   }
  }
 },
 "nbformat": 4,
 "nbformat_minor": 2,
 "cells": [
  {
   "cell_type": "code",
   "execution_count": 1,
   "metadata": {},
   "outputs": [],
   "source": [
    "from utility import *"
   ]
  },
  {
   "cell_type": "code",
   "execution_count": null,
   "metadata": {},
   "outputs": [],
   "source": [
    "def delta_OSRG(fig, seed_pos = [0,0]):\n",
    "    for i in [-1, 0, 1]:\n",
    "        for j in [-1, 0, 1]:\n",
    "            total_intensity += fig[seed_pos[0] + i, seed_pos[1] + j]\n",
    "    intensity_avg = total_intensity / 9 \n",
    "    return np.abs(fig[seed_pos] - intensity_avg)\n",
    "\n",
    "\n",
    "def delta_LSRG(fig, seed_x, seed_y):\n",
    "    slope_x = []\n",
    "    slope_y = []\n",
    "    intercept_x = []\n",
    "    intercept_y = []\n",
    "    # x linear regression\n",
    "    for row in [-1, 0, 1]:\n",
    "        lrx = linregress([seed_x - 1, seed_x, seed_x + 1], fig[seed_y + row, seed_x - 1 : seed_x + 1 ])\n",
    "        slope_x.append(lrx.slope)\n",
    "        intercept_x.append(lrx.intercept)\n",
    "    # y linear regression\n",
    "    for col in [-1, 0, 1]:\n",
    "        lry = linregress([seed_y - 1, seed_y, seed_y + 1], fig[seed_y - 1 : seed_y + 1, seed_x + col])\n",
    "        slope_y.append(lry.slope)\n",
    "        intercept_y.append(lry.intercept)\n",
    "    for i in [-1, 0, 1]:\n",
    "        for j in [-1, 0, 1]:\n",
    "            \n"
   ]
  },
  {
   "cell_type": "code",
   "execution_count": 2,
   "metadata": {},
   "outputs": [],
   "source": [
    "# y = 1.5 * x + 5\n",
    "x = np.linspace(-1, 1, 3)\n",
    "y = np.linspace(-1, 1, 3)\n",
    "x, y = np.meshgrid(x, y)\n",
    "z = 1.5 * x + 2.5 * y + 5\n"
   ]
  },
  {
   "cell_type": "code",
   "execution_count": 6,
   "metadata": {},
   "outputs": [
    {
     "output_type": "execute_result",
     "data": {
      "text/plain": [
       "(array([1.5, 2.5]),\n",
       " array([[ 0., -0.],\n",
       "        [ 0.,  0.]]))"
      ]
     },
     "metadata": {},
     "execution_count": 6
    }
   ],
   "source": [
    "def func(x, k, b):\n",
    "    return k * x + b\n",
    "curve_fit(func, [-1, 0, 1], [1, 2.5, 4])"
   ]
  },
  {
   "cell_type": "code",
   "execution_count": 4,
   "metadata": {},
   "outputs": [
    {
     "output_type": "execute_result",
     "data": {
      "text/plain": [
       "array([[1. , 2.5, 4. ],\n",
       "       [3.5, 5. , 6.5],\n",
       "       [6. , 7.5, 9. ]])"
      ]
     },
     "metadata": {},
     "execution_count": 4
    }
   ],
   "source": [
    "z"
   ]
  },
  {
   "cell_type": "code",
   "execution_count": null,
   "metadata": {},
   "outputs": [],
   "source": [
    "y.mean()"
   ]
  },
  {
   "cell_type": "code",
   "execution_count": null,
   "metadata": {},
   "outputs": [],
   "source": []
  }
 ]
}