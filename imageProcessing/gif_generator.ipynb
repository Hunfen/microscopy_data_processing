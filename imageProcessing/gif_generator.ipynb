{
 "metadata": {
  "language_info": {
   "codemirror_mode": {
    "name": "ipython",
    "version": 3
   },
   "file_extension": ".py",
   "mimetype": "text/x-python",
   "name": "python",
   "nbconvert_exporter": "python",
   "pygments_lexer": "ipython3",
   "version": "3.8.6-final"
  },
  "orig_nbformat": 2,
  "kernelspec": {
   "name": "python38264bitf5a982ec61d74e6588002a81cba92c22",
   "display_name": "Python 3.8.2 64-bit"
  }
 },
 "nbformat": 4,
 "nbformat_minor": 2,
 "cells": [
  {
   "cell_type": "code",
   "execution_count": 1,
   "metadata": {},
   "outputs": [],
   "source": [
    "from skimage import io\n",
    "import numpy as np\n",
    "import matplotlib.pyplot as plt\n",
    "from matplotlib import rcParams\n",
    "from matplotlib import animation as anime\n",
    "from math import sqrt\n",
    "rcParams['mathtext.fontset'] = 'stix'\n",
    "import gif"
   ]
  },
  {
   "cell_type": "code",
   "execution_count": null,
   "metadata": {},
   "outputs": [],
   "source": [
    "fig = plt.figure(dpi = 300)\n",
    "plt.axis('off')\n",
    "frames = []\n",
    "for i in range(239):\n",
    "    fig_data = io.imread('/Users/hunfen/OneDrive/General Files/ゼミー/20201030/20201027FeSeDepo/Image' + str(i + 1).zfill(4) + '.jpg')\n",
    "    frame = plt.imshow(fig_data, cmap = 'binary')\n",
    "    frames.append([frame])\n",
    "ani = anime.ArtistAnimation(fig,\n",
    "                            frames,\n",
    "                            interval=100,\n",
    "                            blit=True,\n",
    "                            repeat_delay=2000)\n",
    "ani.save('/Users/hunfen/OneDrive/General Files/ゼミー/20201030/FeSe_1UC_RHEED.gif', writer = 'Pillow')\n"
   ]
  },
  {
   "cell_type": "code",
   "execution_count": null,
   "metadata": {},
   "outputs": [],
   "source": []
  }
 ]
}