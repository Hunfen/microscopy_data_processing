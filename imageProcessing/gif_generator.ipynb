{
 "metadata": {
  "language_info": {
   "codemirror_mode": {
    "name": "ipython",
    "version": 3
   },
   "file_extension": ".py",
   "mimetype": "text/x-python",
   "name": "python",
   "nbconvert_exporter": "python",
   "pygments_lexer": "ipython3",
   "version": "3.8.6-final"
  },
  "orig_nbformat": 2,
  "kernelspec": {
   "name": "python38264bitf5a982ec61d74e6588002a81cba92c22",
   "display_name": "Python 3.8.2 64-bit"
  }
 },
 "nbformat": 4,
 "nbformat_minor": 2,
 "cells": [
  {
   "cell_type": "code",
   "execution_count": null,
   "metadata": {},
   "outputs": [],
   "source": [
    "from skimage import io\n",
    "import numpy as np\n",
    "import matplotlib.pyplot as plt\n",
    "from matplotlib import rcParams\n",
    "from matplotlib import animation as anime\n",
    "from math import sqrt\n",
    "rcParams['mathtext.fontset'] = 'stix'"
   ]
  },
  {
   "cell_type": "code",
   "execution_count": null,
   "metadata": {},
   "outputs": [],
   "source": [
    "fig = plt.figure()\n",
    "plt.axis('off')\n",
    "ims = []\n",
    "for i in range(239):\n",
    "    fig_data = io.imread('/Users/hunfen/OneDrive/General Files/ゼミー/20201030/20201027FeSeDepo/Image' + str(i + 1).zfill(4) + '.jpg')\n",
    "    im = plt.imshow(fig_data, cmap = 'gray')\n",
    "    ims.append([im])\n",
    "ani = anime.ArtistAnimation(fig,\n",
    "                            ims,\n",
    "                            interval=75,\n",
    "                            blit=True,\n",
    "                            repeat_delay=1000)\n",
    "ani.save('/Users/hunfen/OneDrive/General Files/ゼミー/20201030/20201027FeSeDepo/RHEED_Oscillation.gif', writer = Pillow)\n"
   ]
  },
  {
   "cell_type": "code",
   "execution_count": null,
   "metadata": {},
   "outputs": [],
   "source": []
  }
 ]
}