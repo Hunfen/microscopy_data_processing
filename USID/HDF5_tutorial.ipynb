{
 "metadata": {
  "language_info": {
   "codemirror_mode": {
    "name": "ipython",
    "version": 3
   },
   "file_extension": ".py",
   "mimetype": "text/x-python",
   "name": "python",
   "nbconvert_exporter": "python",
   "pygments_lexer": "ipython3",
   "version": "3.8.6-final"
  },
  "orig_nbformat": 2,
  "kernelspec": {
   "name": "Python 3.8.6 64-bit",
   "display_name": "Python 3.8.6 64-bit",
   "metadata": {
    "interpreter": {
     "hash": "aee8b7b246df8f9039afb4144a1f6fd8d2ca17a180786b69acc140d282b71a49"
    }
   }
  }
 },
 "nbformat": 4,
 "nbformat_minor": 2,
 "cells": [
  {
   "cell_type": "code",
   "execution_count": 5,
   "metadata": {},
   "outputs": [],
   "source": [
    "import h5py as h5"
   ]
  },
  {
   "source": [
    "- - -\n",
    "### HDF5 file structure\n",
    "1. Level0: File signature and super block\n",
    "2. Level1: File infrastructure\n",
    "    1. Level1A: B-link trees and B-tree nodes\n",
    "    2. Level1B: Group\n",
    "    3. Level1C: Group entry\n",
    "    4. Level1D: Global heap\n",
    "    5. Level1F: Free-space Index\n",
    "3. Level2: Data object\n",
    "    1. Level2A: Data object headers\n",
    "    2. Level2B: Shared data object headers\n",
    "    3. Level2C: Data object data storage\n",
    "- - -\n",
    "### Level0\n",
    "    Header block for the file.  \n",
    "    signature, version information, key parameters.\n",
    "### Level1\n",
    "    data structures: B-tress, heaps, and groups.\n",
    "### Level2\n",
    "    defines the data structure for storing the data objects and data\n",
    "- - -"
   ],
   "cell_type": "markdown",
   "metadata": {}
  },
  {
   "source": [
    "|Prefix|Operates on|\n",
    "|:----:|  :----:   |\n",
    "| H5A  | Attributes|\n",
    "|H5D|Datasets|\n",
    "|H5E|Error reports|\n",
    "|H5F|Files|\n",
    "|H5G|Groups|\n",
    "|H5I|Identifiers|\n",
    "|H5L|Links|\n",
    "|H5O|Objects|\n",
    "|H5P|Property lists|\n",
    "|H5R|References|\n",
    "|H5S|Dataspaces|\n",
    "|H5T|Datatypes|\n",
    "|H5Z|filters|"
   ],
   "cell_type": "markdown",
   "metadata": {}
  },
  {
   "source": [
    "### 1. Creating an HDF5 file\n",
    " > `h5.h5f.create(File, H5F_ACC_TRUNC, H5P_DEFAULT, H5P_DEFAULT)`"
   ],
   "cell_type": "markdown",
   "metadata": {}
  },
  {
   "source": [
    "### 2. Creating and Initializing a Dataset\n",
    "___Steps:___\n",
    "> 1. Creat and initialize a dataspace for the dataset\n",
    "  2. Define a datatype for the dataset\n",
    "  3. Create and initialize the dataset\n",
    "\n",
    "___Code like this:___\n",
    "> Create a dataspace: Describe the size of the array and \n",
    "  create the dataspace for a fixed-size dataset.  \n",
    "  ```python\n",
    "  dims = (NX, NY)\n",
    "  dataspace = h5.h5s.create_simple(RANK, dims, NULL)\n",
    "  ```  \n",
    "  Define a datatype for the data in the dataset.  \n",
    "  We will store little endian integers.  \n",
    "  ```C\n",
    "  datatype = h5.h5t.NATIVE_INT8\n",
    "  status = h5.h5t.set_order()\n",
    "  ```  \n",
    "  Create a new dataset within the file using the defined \n",
    "  dataspace and datatype and default datset creation \n",
    "  properties. \n",
    "  ```\n",
    "  dataset = h5.h5d.create(file, DATANAME, datatype,   \n",
    "  dataspace, h5.h5p.DEFAULT, h5.h5p.DEFAULT,               \n",
    "  h5.h5p.DEFAULT)\n",
    "  ```  "
   ],
   "cell_type": "markdown",
   "metadata": {}
  },
  {
   "source": [
    "### 3. Closing object "
   ],
   "cell_type": "code",
   "metadata": {},
   "execution_count": null,
   "outputs": []
  },
  {
   "cell_type": "code",
   "execution_count": 12,
   "metadata": {},
   "outputs": [
    {
     "output_type": "stream",
     "name": "stdout",
     "text": [
      "\n    Provides access to the low-level HDF5 \"H5A\" attribute interface.\n\n"
     ]
    }
   ],
   "source": [
    "### 4. Writing or Reading a Dataset to or from a File\n",
    "```\n",
    "h5.h5d.create()\n",
    "```"
   ]
  },
  {
   "cell_type": "code",
   "execution_count": null,
   "metadata": {},
   "outputs": [],
   "source": []
  }
 ]
}