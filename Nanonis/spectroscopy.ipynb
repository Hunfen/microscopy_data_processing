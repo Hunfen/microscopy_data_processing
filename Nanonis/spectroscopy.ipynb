{
 "metadata": {
  "language_info": {
   "codemirror_mode": {
    "name": "ipython",
    "version": 3
   },
   "file_extension": ".py",
   "mimetype": "text/x-python",
   "name": "python",
   "nbconvert_exporter": "python",
   "pygments_lexer": "ipython3",
   "version": "3.8.6-final"
  },
  "orig_nbformat": 2,
  "kernelspec": {
   "name": "Python 3.8.6 64-bit",
   "display_name": "Python 3.8.6 64-bit",
   "metadata": {
    "interpreter": {
     "hash": "aee8b7b246df8f9039afb4144a1f6fd8d2ca17a180786b69acc140d282b71a49"
    }
   }
  }
 },
 "nbformat": 4,
 "nbformat_minor": 2,
 "cells": [
  {
   "cell_type": "code",
   "execution_count": 1,
   "metadata": {},
   "outputs": [],
   "source": [
    "import numpy as np\n",
    "\n",
    "import matplotlib.pyplot as plt\n",
    "from matplotlib.patches import ConnectionPatch\n",
    "from matplotlib import rcParams\n",
    "rcParams['mathtext.fontset'] = 'stix'\n",
    "from matplotlib import cm\n",
    "from matplotlib.colors import ListedColormap, LinearSegmentedColormap\n",
    "\n",
    "from Nanonis import read_file"
   ]
  },
  {
   "cell_type": "code",
   "execution_count": null,
   "metadata": {},
   "outputs": [],
   "source": [
    "f = read_file('/Users/hunfen/OneDrive/General Files/ゼミー/20201110/2020-11-05/Bias-Spectroscopy00061.dat')\n",
    "data = f.data"
   ]
  },
  {
   "cell_type": "code",
   "execution_count": null,
   "metadata": {},
   "outputs": [],
   "source": [
    "fig, axis = plt.subplots(1, 2, figsize = (10, 5), sharex = True)\n",
    "for i in range(len(data)):\n",
    "    axis[0].plot(data[i][0], (data[i][4] + data[i][1]) / 2 * 1e12, '.', color = 'black')\n",
    "    axis[1].plot(data[i][0], (data[i][2] + data[i][5]) / 2 * 1e12, '.', color = 'black')\n",
    "axis[0].axhline(y = 0, ls = '--',color = 'black')\n",
    "axis[1].axhline(y = 0, ls = '--',color = 'black')\n",
    "axis[0].set_xlabel(r'$Bias\\ \\mathrm{[V]}$', fontsize = 14)\n",
    "axis[1].set_xlabel(r'$Bias\\ \\mathrm{[V]}$', fontsize = 14)\n",
    "axis[0].set_ylabel(r'$Current\\ \\mathrm{[pA]}$', fontsize = 14)\n",
    "axis[1].set_ylabel(r'$dI/dV\\ \\mathrm{[a.u.]}$', fontsize = 14)\n",
    "fig.tight_layout();"
   ]
  },
  {
   "cell_type": "code",
   "execution_count": null,
   "metadata": {},
   "outputs": [],
   "source": [
    "# fig.savefig('/Users/hunfen/OneDrive/General Files/ゼミー/20201030/spec_1UC_FeSe_1V100pA.jpg', dpi = 600)"
   ]
  },
  {
   "cell_type": "code",
   "execution_count": null,
   "metadata": {},
   "outputs": [],
   "source": [
    "fig, axes = plt.subplots(figsize = (5, 5))\n",
    "axes_1 = axes.twinx()\n",
    "for i in range(len(data)):\n",
    "    # I-V\n",
    "    axes.plot(data[i][0], (data[i][4] + data[i][1]) / 2 * 1e12, '.', color = 'black')\n",
    "    axes_1.plot(data[i][0], (data[i][2] + data[i][5]) / 2 * 1e12, '.', color = 'red')\n",
    "fig.tight_layout();"
   ]
  },
  {
   "cell_type": "code",
   "execution_count": null,
   "metadata": {},
   "outputs": [],
   "source": []
  }
 ]
}