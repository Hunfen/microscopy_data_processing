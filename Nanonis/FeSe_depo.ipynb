{
 "metadata": {
  "language_info": {
   "codemirror_mode": {
    "name": "ipython",
    "version": 3
   },
   "file_extension": ".py",
   "mimetype": "text/x-python",
   "name": "python",
   "nbconvert_exporter": "python",
   "pygments_lexer": "ipython3",
   "version": "3.8.6-final"
  },
  "orig_nbformat": 2,
  "kernelspec": {
   "name": "python386jvsc74a57bd0082e9a3bcad0a290d0001e938aa60b99250c6c2ef33a923c00b70f9826caf4b7",
   "display_name": "Python 3.8.6 64-bit"
  },
  "metadata": {
   "interpreter": {
    "hash": "082e9a3bcad0a290d0001e938aa60b99250c6c2ef33a923c00b70f9826caf4b7"
   }
  }
 },
 "nbformat": 4,
 "nbformat_minor": 2,
 "cells": [
  {
   "cell_type": "code",
   "execution_count": 1,
   "metadata": {},
   "outputs": [],
   "source": [
    "from utility import *"
   ]
  },
  {
   "cell_type": "code",
   "execution_count": null,
   "metadata": {},
   "outputs": [],
   "source": [
    "def resistance(voltage = '0', current = '0.0'):\n",
    "    if float(current) == 0:\n",
    "        print(r'Resistance is N/A.')\n",
    "    else: \n",
    "        print(r'Resistance is {:.2f}Ω.'.format(float(voltage) / float(current)))\n",
    "widgets.interact(resistance, voltage = widgets.BoundedFloatText(min = 0, max = 110, step = 0.1), current = widgets.BoundedFloatText(min = 0, max = 1, step = 0.01));"
   ]
  },
  {
   "source": [
    "## Depo Time"
   ],
   "cell_type": "markdown",
   "metadata": {}
  },
  {
   "cell_type": "code",
   "execution_count": null,
   "metadata": {},
   "outputs": [],
   "source": [
    "def FeSe_depo(start = '0', ML = '0', ahead_schedule = '60', preheat = '600'):\n",
    "    print('Starting from {}secs, monolayer takes {}secs.'.format(int(start) * 2, (int(ML) - int(start)) * 2))\n",
    "    duration = int((int(ML) - int(start)) * 2 * 1.3)\n",
    "    minutes = int((duration + int(start) * 2 - int(ahead_schedule) + int(preheat)) // 60)\n",
    "    seconds = int((duration + int(start) * 2 - int(ahead_schedule)) % 60)\n",
    "    print(r'1.3ML should take {} second(s), namely, {}min{}secs'.format(duration, minutes, seconds))\n",
    "widgets.interact(FeSe_depo, start = '0', ML = '0');"
   ]
  },
  {
   "source": [
    "## Intensity Log"
   ],
   "cell_type": "markdown",
   "metadata": {}
  },
  {
   "source": [
    "### Folder Path"
   ],
   "cell_type": "markdown",
   "metadata": {}
  },
  {
   "cell_type": "code",
   "execution_count": 2,
   "metadata": {},
   "outputs": [],
   "source": [
    "folder_path = '/Users/hunfen/OneDrive/General Files/ゼミー/20210422/RHEED20210421/'"
   ]
  },
  {
   "source": [
    "### Calculate Intensity Log"
   ],
   "cell_type": "markdown",
   "metadata": {}
  },
  {
   "cell_type": "code",
   "execution_count": 17,
   "metadata": {},
   "outputs": [],
   "source": [
    "# coordinates = np.genfromtxt(folder_path + 'cOordinates.txt', delimiter = ',').astype(int)\n",
    "coordinates = [583, 289, 587, 348]\n",
    "IntensityLog = []\n",
    "rect_size = (coordinates[0] - coordinates[2]) * (coordinates[1] - coordinates[3])\n",
    "\n",
    "for i in range(441):\n",
    "    try:\n",
    "        fig_data = plt.imread(folder_path + 'Image' + str(i + 1).zfill(4) + '.jpg')\n",
    "        Intensity = 0\n",
    "        for y in range(coordinates[1], coordinates[3]):\n",
    "            for x in range(coordinates[0], coordinates[2]):\n",
    "                Intensity += fig_data[y][x]\n",
    "        IntensityLog.append(Intensity / rect_size)\n",
    "    except IOError:\n",
    "        continue\n",
    "\n",
    "IntensityLog = np.array(IntensityLog)\n",
    "IntensityLog = IntensityLog / IntensityLog.max()"
   ]
  },
  {
   "cell_type": "code",
   "execution_count": null,
   "metadata": {},
   "outputs": [],
   "source": []
  },
  {
   "source": [
    "### Create Figure"
   ],
   "cell_type": "markdown",
   "metadata": {}
  },
  {
   "cell_type": "code",
   "execution_count": 19,
   "metadata": {},
   "outputs": [
    {
     "output_type": "display_data",
     "data": {
      "text/plain": "<Figure size 432x288 with 1 Axes>",
      "image/png": "[encoded data removed]"
     },
     "metadata": {
      "needs_background": "light"
     }
    }
   ],
   "source": [
    "fig, axis = plt.subplots()\n",
    "axis.plot(np.linspace(0, 882, 441), IntensityLog, '.', color = 'black')\n",
    "axis.set_title(r'$\\bf{Inetnsity\\ Log}$', fontsize =18)\n",
    "axis.set_xlabel(r'$time\\ \\mathrm{[s]}$', fontsize = 14)\n",
    "axis.set_ylabel(r'$Intensity}$', fontsize = 14)\n",
    "# axis.set_yticks([])\n",
    "axis.set_xlim(0, 800)\n",
    "axis.set_ylim(0, 1)\n",
    "\n",
    "axis.axvline(x = 60, ls = '--', color = 'green')\n",
    "axis.axvline(x = 760, ls = '--', color = 'red')\n",
    "axis.axvline(x = 580, ls = '--', color = 'blue')\n",
    "# axis.text(285, 65,r'$3\\mathrm{min}$', color = 'black', fontsize = 12)\n",
    "# axis.arrow(280, 70, 0, -20, width = 1.5, length_includes_head = False, head_width = 6, head_length = 3, color = 'black')\n",
    "# axis.text(105, 40, r'$100\\ \\mathrm{s}$', fontsize =12)\n",
    "# axis.arrow(90, 120, 30, 0, width = 1.5, color = 'green')\n",
    "# axis.text(285, 25, r'Totally, $250\\ \\mathrm{s}$', fontsize =12)\n",
    "# axis.arrow(380, 120, 30, 0, width = 1.5, color = 'red')\n",
    "# \n",
    "fig.tight_layout();\n",
    "# fig.savefig('/Users/hunfen/OneDrive/General Files/ゼミー/20210422/IntensityLog.png', dpi = 600)"
   ]
  },
  {
   "cell_type": "code",
   "execution_count": 34,
   "metadata": {},
   "outputs": [],
   "source": [
    "cut = IntensityLog[300: 400]\n",
    "d_cut = np.diff(cut)\n",
    "dd_cut = np.diff(d_cut)"
   ]
  },
  {
   "cell_type": "code",
   "execution_count": 32,
   "metadata": {},
   "outputs": [
    {
     "output_type": "execute_result",
     "data": {
      "text/plain": [
       "(array([80]),)"
      ]
     },
     "metadata": {},
     "execution_count": 32
    }
   ],
   "source": [
    "np.where(d_cut == np.max(d_cut))"
   ]
  },
  {
   "source": [
    "## Oscillation GIF"
   ],
   "cell_type": "markdown",
   "metadata": {}
  },
  {
   "cell_type": "code",
   "execution_count": null,
   "metadata": {},
   "outputs": [],
   "source": [
    "fig = plt.figure(dpi = 100)\n",
    "plt.axis('off')\n",
    "fig.tight_layout()\n",
    "frames = []\n",
    "for i in range(30, 190):\n",
    "    fig_data = plt.imread(folder_path + 'Image' + str(i + 1).zfill(4) + '.jpg')\n",
    "    frame = plt.imshow(fig_data[:, :])\n",
    "    frames.append([frame])\n",
    "ani = anime.ArtistAnimation(fig,\n",
    "                            frames,\n",
    "                            interval = 100,\n",
    "                            blit = True,\n",
    "                            repeat = False)\n",
    "ani.save('/Users/hunfen/OneDrive/General Files/ゼミー/20201224/FeSe_1UC_RHEED.gif')"
   ]
  },
  {
   "source": [
    "## Temperature-Watt"
   ],
   "cell_type": "markdown",
   "metadata": {}
  },
  {
   "cell_type": "code",
   "execution_count": null,
   "metadata": {},
   "outputs": [],
   "source": [
    "class electricity:\n",
    "    def __init__(self, data = (0, 0, 0)):\n",
    "        self.current = data[0]\n",
    "        self.voltage = data[1]\n",
    "        self.R = data[1] / data[0]\n",
    "        self.power = data[0] * data[1]\n",
    "        self.temp = data[2]"
   ]
  },
  {
   "cell_type": "code",
   "execution_count": 17,
   "metadata": {},
   "outputs": [
    {
     "output_type": "execute_result",
     "data": {
      "text/plain": [
       "1.359292830849924"
      ]
     },
     "metadata": {},
     "execution_count": 17
    }
   ],
   "source": [
    "3.605551275463989 * 0.377"
   ]
  },
  {
   "cell_type": "code",
   "execution_count": 19,
   "metadata": {},
   "outputs": [
    {
     "output_type": "execute_result",
     "data": {
      "text/plain": [
       "0.011999424049761282"
      ]
     },
     "metadata": {},
     "execution_count": 19
    }
   ],
   "source": [
    "math.atan(6/500)"
   ]
  },
  {
   "cell_type": "code",
   "execution_count": null,
   "metadata": {},
   "outputs": [],
   "source": []
  }
 ]
}