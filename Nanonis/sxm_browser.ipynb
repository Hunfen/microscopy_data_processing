{
 "metadata": {
  "language_info": {
   "codemirror_mode": {
    "name": "ipython",
    "version": 3
   },
   "file_extension": ".py",
   "mimetype": "text/x-python",
   "name": "python",
   "nbconvert_exporter": "python",
   "pygments_lexer": "ipython3",
   "version": "3.8.6-final"
  },
  "orig_nbformat": 2,
  "kernelspec": {
   "name": "Python 3.8.6 64-bit",
   "display_name": "Python 3.8.6 64-bit",
   "metadata": {
    "interpreter": {
     "hash": "aee8b7b246df8f9039afb4144a1f6fd8d2ca17a180786b69acc140d282b71a49"
    }
   }
  }
 },
 "nbformat": 4,
 "nbformat_minor": 2,
 "cells": [
  {
   "cell_type": "code",
   "execution_count": 1,
   "metadata": {},
   "outputs": [
    {
     "output_type": "error",
     "ename": "ImportError",
     "evalue": "cannot import name 'NanonisFile' from 'Nanonis' (/Users/hunfen/Documents/GitHub/microscopy_data_processing/Nanonis/Nanonis.py)",
     "traceback": [
      "\u001b[0;31m---------------------------------------------------------------------------\u001b[0m",
      "\u001b[0;31mImportError\u001b[0m                               Traceback (most recent call last)",
      "\u001b[0;32m<ipython-input-1-399c9adbde5b>\u001b[0m in \u001b[0;36m<module>\u001b[0;34m\u001b[0m\n\u001b[1;32m     28\u001b[0m \u001b[0;32mimport\u001b[0m \u001b[0mmath\u001b[0m\u001b[0;34m\u001b[0m\u001b[0;34m\u001b[0m\u001b[0m\n\u001b[1;32m     29\u001b[0m \u001b[0;32mimport\u001b[0m \u001b[0mre\u001b[0m\u001b[0;34m\u001b[0m\u001b[0;34m\u001b[0m\u001b[0m\n\u001b[0;32m---> 30\u001b[0;31m \u001b[0;32mfrom\u001b[0m \u001b[0mNanonis\u001b[0m \u001b[0;32mimport\u001b[0m \u001b[0mNanonisFile\u001b[0m\u001b[0;34m\u001b[0m\u001b[0;34m\u001b[0m\u001b[0m\n\u001b[0m\u001b[1;32m     31\u001b[0m \u001b[0;34m\u001b[0m\u001b[0m\n\u001b[1;32m     32\u001b[0m \u001b[0;32mimport\u001b[0m \u001b[0mipywidgets\u001b[0m \u001b[0;32mas\u001b[0m \u001b[0mwidgets\u001b[0m\u001b[0;34m\u001b[0m\u001b[0;34m\u001b[0m\u001b[0m\n",
      "\u001b[0;31mImportError\u001b[0m: cannot import name 'NanonisFile' from 'Nanonis' (/Users/hunfen/Documents/GitHub/microscopy_data_processing/Nanonis/Nanonis.py)"
     ]
    }
   ],
   "source": [
    "import numpy as np\n",
    "\n",
    "import matplotlib.pyplot as plt\n",
    "from matplotlib.patches import ConnectionPatch\n",
    "from matplotlib import rcParams\n",
    "from matplotlib import cm\n",
    "from matplotlib.colors import ListedColormap, LinearSegmentedColormap\n",
    "rcParams['mathtext.fontset'] = 'stix'\n",
    "# color map \n",
    "cdict = {'red':   [[0.0,  0.0, 0.0],\n",
    "                   [0.34,  168 / 256, 168 /256],\n",
    "                   [0.67,  243 / 256, 243 / 256],\n",
    "                   [1.0, 1.0, 1.0]],\n",
    "         'green': [[0.0,  0.0, 0.0],\n",
    "                   [0.34, 40 / 256, 40 / 256],\n",
    "                   [0.67, 194 / 256, 194/ 256],\n",
    "                   [1.0,  1.0, 1.0]],\n",
    "         'blue':  [[0.0,  0.0, 0.0],\n",
    "                   [0.34,  15 / 256, 15 / 256],\n",
    "                   [0.67,  93 / 256, 93 /256],\n",
    "                   [1.0, 1.0, 1.0]]}\n",
    "gwyddion = LinearSegmentedColormap('gwyddion', segmentdata = cdict, N = 256)\n",
    "\n",
    "import inspect\n",
    "import os\n",
    "import string\n",
    "import struct\n",
    "import math\n",
    "import re\n",
    "from Nanonis import NanonisFile\n",
    "\n",
    "import ipywidgets as widgets"
   ]
  },
  {
   "cell_type": "code",
   "execution_count": 5,
   "metadata": {},
   "outputs": [],
   "source": [
    "def sxm2figuer(fname):\n",
    "    f = NanonisFile(fname)\n",
    "    \n",
    "    fig, axes = plt.subplots(2, 2, figsize = (6, 6))\n",
    "    for i in range(len(f.data)):\n",
    "        for j in range(len(f.data[i])):\n",
    "            axes[i][j].imshow(f.data[i][j], cmap = gwyddion)\n",
    "            axes[i][j].axis('off')\n",
    "    fig.tight_layout()"
   ]
  },
  {
   "cell_type": "code",
   "execution_count": 6,
   "metadata": {},
   "outputs": [],
   "source": [
    "def path_list(folder_path):\n",
    "    \"\"\"\n",
    "    parameter\n",
    "    ---------\n",
    "    foler_path : path of folder\n",
    "\n",
    "    return\n",
    "    ------\n",
    "    path_ls : list of paths of files inside folder \n",
    "    \"\"\"\n",
    "    extensiton_list = ['.sxm']\n",
    "    path_ls = []\n",
    "    # path_dict = {}\n",
    "    file_ls = os.listdir(folder_path)\n",
    "    for i in range(len(file_ls)):\n",
    "        if file_ls[i][-4:] not in extensiton_list:\n",
    "            continue\n",
    "        else:\n",
    "            path_ls.append(os.path.join(folder_path, file_ls[i]))\n",
    "    del file_ls\n",
    "    path_ls.sort()\n",
    "    return path_ls"
   ]
  },
  {
   "cell_type": "code",
   "execution_count": 7,
   "metadata": {},
   "outputs": [
    {
     "output_type": "display_data",
     "data": {
      "text/plain": "interactive(children=(Dropdown(description='fname', options=('/Users/hunfen/OneDrive/General Files/ゼミー/202011…",
      "application/vnd.jupyter.widget-view+json": {
       "version_major": 2,
       "version_minor": 0,
       "model_id": "1909db7d7b2645698404b19983b1bc9c"
      }
     },
     "metadata": {}
    }
   ],
   "source": [
    "folder_path = '/Users/hunfen/OneDrive/General Files/ゼミー/20201110/2020-11-04/'\n",
    "widgets.interact(sxm2figuer, fname = path_list(folder_path));"
   ]
  },
  {
   "cell_type": "code",
   "execution_count": 12,
   "metadata": {},
   "outputs": [],
   "source": [
    "fname = os.path.split('/Users/hunfen/OneDrive/General Files/ゼミー/20201110/2020-11-04/Bias-Spectroscopy00006.dat')[1]"
   ]
  },
  {
   "cell_type": "code",
   "execution_count": 13,
   "metadata": {},
   "outputs": [
    {
     "output_type": "execute_result",
     "data": {
      "text/plain": [
       "'.dat'"
      ]
     },
     "metadata": {},
     "execution_count": 13
    }
   ],
   "source": [
    "fname[-4:]"
   ]
  },
  {
   "cell_type": "code",
   "execution_count": 17,
   "metadata": {},
   "outputs": [],
   "source": [
    "fname = '/Users/hunfen/OneDrive/General Files/ゼミー/20201030/data/2020-10-28/Bias-Spectroscopy00007.dat'\n",
    "header = []\n",
    "with open(fname, 'r') as f:\n",
    "    header_end = False\n",
    "    while not header_end:\n",
    "        line = f.readline()\n",
    "        if re.match(r'\\[DATA\\]', line):\n",
    "            header_end = True\n",
    "        else:\n",
    "            header.append(line)"
   ]
  },
  {
   "cell_type": "code",
   "execution_count": 18,
   "metadata": {},
   "outputs": [
    {
     "output_type": "execute_result",
     "data": {
      "text/plain": [
       "['Experiment\\tbias spectroscopy\\t\\n',\n",
       " 'Saved Date\\t28.10.2020 19:12:45\\t\\n',\n",
       " 'User\\t\\t\\n',\n",
       " 'Date\\t\\t\\n',\n",
       " 'X (m)\\t457.2E-9\\t\\n',\n",
       " 'Y (m)\\t474.337E-9\\t\\n',\n",
       " 'Z (m)\\t-103.038E-9\\t\\n',\n",
       " 'Z offset (m)\\t0E+0\\t\\n',\n",
       " 'Settling time (s)\\t200E-6\\t\\n',\n",
       " 'Integration time (s)\\t20E-3\\t\\n',\n",
       " 'Z-Ctrl hold\\tTRUE\\t\\n',\n",
       " 'Final Z (m)\\tN/A\\t\\n',\n",
       " 'Start time\\t28.10.2020 19:12:12\\t\\n',\n",
       " 'Filter type\\tNone\\t\\n',\n",
       " 'Order\\t\\t\\n',\n",
       " 'Cutoff frq\\t\\t\\n',\n",
       " '\\n']"
      ]
     },
     "metadata": {},
     "execution_count": 18
    }
   ],
   "source": [
    "header"
   ]
  },
  {
   "cell_type": "code",
   "execution_count": 20,
   "metadata": {},
   "outputs": [],
   "source": [
    "from Nanonis import NanonisFile"
   ]
  },
  {
   "cell_type": "code",
   "execution_count": 21,
   "metadata": {},
   "outputs": [],
   "source": [
    "f = NanonisFile('/Users/hunfen/OneDrive/General Files/ゼミー/20201030/data/2020-10-28/Bias-Spectroscopy00007.dat')"
   ]
  },
  {
   "cell_type": "code",
   "execution_count": 22,
   "metadata": {},
   "outputs": [],
   "source": [
    "f.header"
   ]
  },
  {
   "cell_type": "code",
   "execution_count": 23,
   "metadata": {},
   "outputs": [
    {
     "output_type": "stream",
     "name": "stdout",
     "text": [
      "None\n"
     ]
    }
   ],
   "source": [
    "print(f.header)"
   ]
  },
  {
   "cell_type": "code",
   "execution_count": 24,
   "metadata": {},
   "outputs": [
    {
     "output_type": "execute_result",
     "data": {
      "text/plain": [
       "'Bias-Spectroscopy00007.dat'"
      ]
     },
     "metadata": {},
     "execution_count": 24
    }
   ],
   "source": [
    "f.fname"
   ]
  },
  {
   "cell_type": "code",
   "execution_count": 4,
   "metadata": {},
   "outputs": [
    {
     "output_type": "error",
     "ename": "ImportError",
     "evalue": "cannot import name 'NanonisFile' from 'Nanonis' (/Users/hunfen/Documents/GitHub/microscopy_data_processing/Nanonis/Nanonis.py)",
     "traceback": [
      "\u001b[0;31m---------------------------------------------------------------------------\u001b[0m",
      "\u001b[0;31mImportError\u001b[0m                               Traceback (most recent call last)",
      "\u001b[0;32m<ipython-input-4-9d3f7e770090>\u001b[0m in \u001b[0;36m<module>\u001b[0;34m\u001b[0m\n\u001b[0;32m----> 1\u001b[0;31m \u001b[0;32mfrom\u001b[0m \u001b[0mNanonis\u001b[0m \u001b[0;32mimport\u001b[0m \u001b[0mNanonisFile\u001b[0m\u001b[0;34m\u001b[0m\u001b[0;34m\u001b[0m\u001b[0m\n\u001b[0m",
      "\u001b[0;31mImportError\u001b[0m: cannot import name 'NanonisFile' from 'Nanonis' (/Users/hunfen/Documents/GitHub/microscopy_data_processing/Nanonis/Nanonis.py)"
     ]
    }
   ],
   "source": [
    "from Nanonis import NanonisFile"
   ]
  },
  {
   "cell_type": "code",
   "execution_count": 2,
   "metadata": {},
   "outputs": [],
   "source": [
    "f = NanonisFile('/Users/hunfen/OneDrive/General Files/ゼミー/20201110/2020-11-04/Topography006.sxm')"
   ]
  },
  {
   "cell_type": "code",
   "execution_count": 3,
   "metadata": {},
   "outputs": [
    {
     "output_type": "error",
     "ename": "AttributeError",
     "evalue": "'NanonisFile' object has no attribute 'header'",
     "traceback": [
      "\u001b[0;31m---------------------------------------------------------------------------\u001b[0m",
      "\u001b[0;31mAttributeError\u001b[0m                            Traceback (most recent call last)",
      "\u001b[0;32m<ipython-input-3-e79549b11c9c>\u001b[0m in \u001b[0;36m<module>\u001b[0;34m\u001b[0m\n\u001b[0;32m----> 1\u001b[0;31m \u001b[0mf\u001b[0m\u001b[0;34m.\u001b[0m\u001b[0mheader\u001b[0m\u001b[0;34m\u001b[0m\u001b[0;34m\u001b[0m\u001b[0m\n\u001b[0m",
      "\u001b[0;31mAttributeError\u001b[0m: 'NanonisFile' object has no attribute 'header'"
     ]
    }
   ],
   "source": [
    "f.header"
   ]
  },
  {
   "cell_type": "code",
   "execution_count": null,
   "metadata": {},
   "outputs": [],
   "source": []
  }
 ]
}