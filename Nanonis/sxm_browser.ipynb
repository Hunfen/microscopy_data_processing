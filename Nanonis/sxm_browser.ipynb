{
 "metadata": {
  "language_info": {
   "codemirror_mode": {
    "name": "ipython",
    "version": 3
   },
   "file_extension": ".py",
   "mimetype": "text/x-python",
   "name": "python",
   "nbconvert_exporter": "python",
   "pygments_lexer": "ipython3",
   "version": "3.8.6-final"
  },
  "orig_nbformat": 2,
  "kernelspec": {
   "name": "Python 3.8.6 64-bit",
   "display_name": "Python 3.8.6 64-bit",
   "metadata": {
    "interpreter": {
     "hash": "aee8b7b246df8f9039afb4144a1f6fd8d2ca17a180786b69acc140d282b71a49"
    }
   }
  }
 },
 "nbformat": 4,
 "nbformat_minor": 2,
 "cells": [
  {
   "cell_type": "code",
   "execution_count": 1,
   "metadata": {},
   "outputs": [],
   "source": [
    "import numpy as np\n",
    "\n",
    "import matplotlib.pyplot as plt\n",
    "from matplotlib.patches import ConnectionPatch\n",
    "from matplotlib import rcParams\n",
    "from matplotlib import cm\n",
    "from matplotlib.colors import ListedColormap, LinearSegmentedColormap\n",
    "rcParams['mathtext.fontset'] = 'stix'\n",
    "# color map \n",
    "cdict = {'red':   [[0.0,  0.0, 0.0],\n",
    "                   [0.34,  168 / 256, 168 /256],\n",
    "                   [0.67,  243 / 256, 243 / 256],\n",
    "                   [1.0, 1.0, 1.0]],\n",
    "         'green': [[0.0,  0.0, 0.0],\n",
    "                   [0.34, 40 / 256, 40 / 256],\n",
    "                   [0.67, 194 / 256, 194/ 256],\n",
    "                   [1.0,  1.0, 1.0]],\n",
    "         'blue':  [[0.0,  0.0, 0.0],\n",
    "                   [0.34,  15 / 256, 15 / 256],\n",
    "                   [0.67,  93 / 256, 93 /256],\n",
    "                   [1.0, 1.0, 1.0]]}\n",
    "gwyddion = LinearSegmentedColormap('gwyddion', segmentdata = cdict, N = 256)\n",
    "\n",
    "import inspect\n",
    "import os\n",
    "import string\n",
    "import struct\n",
    "import math\n",
    "import re\n",
    "\n",
    "import ipywidgets as widgets"
   ]
  },
  {
   "cell_type": "code",
   "execution_count": 2,
   "metadata": {},
   "outputs": [],
   "source": [
    "def sxm2figuer(fname):\n",
    "    with open(fname, 'rb') as f:\n",
    "        read_all = f.read()\n",
    "        offset = read_all.find('\\x1A\\x04'.encode(encoding = 'utf-8'))\n",
    "        f.seek(offset + 2)\n",
    "        data = np.fromfile(f, dtype = '>f')\n",
    "    data_shaped = data.reshape((2, 2, int(math.sqrt(data.size / 4)), int(math.sqrt(data.size / 4))))\n",
    "\n",
    "    for i in range(len(data_shaped)):\n",
    "        for j in range(len(data_shaped[i])):\n",
    "            if not j % 2 == 0:\n",
    "                data_shaped[i][j] = np.fliplr(data_shaped[i][j])\n",
    "    \n",
    "    fig, axes = plt.subplots(2, 2, figsize = (6, 6))\n",
    "    for i in range(len(data_shaped)):\n",
    "        for j in range(len(data_shaped[i])):\n",
    "            axes[i][j].imshow(data_shaped[i][j], cmap = gwyddion)\n",
    "            axes[i][j].axis('off')\n",
    "    fig.tight_layout()"
   ]
  },
  {
   "cell_type": "code",
   "execution_count": 9,
   "metadata": {},
   "outputs": [],
   "source": [
    "def path_list(folder_path):\n",
    "    \"\"\"\n",
    "    parameter\n",
    "    ---------\n",
    "    foler_path : path of folder\n",
    "\n",
    "    return\n",
    "    ------\n",
    "    path_ls : list of paths of files inside folder \n",
    "    \"\"\"\n",
    "    extensiton_list = ['.sxm']\n",
    "    path_ls = []\n",
    "    # path_dict = {}\n",
    "    file_ls = os.listdir(folder_path)\n",
    "    for i in range(len(file_ls)):\n",
    "        if file_ls[i][-4:] not in extensiton_list:\n",
    "            continue\n",
    "        else:\n",
    "            path_ls.append(os.path.join(folder_path, file_ls[i]))\n",
    "    del file_ls\n",
    "    path_ls.sort()\n",
    "    return path_ls"
   ]
  },
  {
   "cell_type": "code",
   "execution_count": 10,
   "metadata": {},
   "outputs": [
    {
     "output_type": "display_data",
     "data": {
      "text/plain": "interactive(children=(Dropdown(description='fname', options=('/Users/hunfen/OneDrive/General Files/ゼミー/202011…",
      "application/vnd.jupyter.widget-view+json": {
       "version_major": 2,
       "version_minor": 0,
       "model_id": "d56512b9589a4952b1bb992fb3dad33d"
      }
     },
     "metadata": {}
    }
   ],
   "source": [
    "folder_path = '/Users/hunfen/OneDrive/General Files/ゼミー/20201110/2020-10-31/'\n",
    "widgets.interact(sxm2figuer, fname = path_list(folder_path));"
   ]
  },
  {
   "cell_type": "code",
   "execution_count": 1,
   "metadata": {},
   "outputs": [],
   "source": [
    "import sxm_reader"
   ]
  },
  {
   "cell_type": "code",
   "execution_count": null,
   "metadata": {},
   "outputs": [],
   "source": []
  }
 ]
}