{
 "metadata": {
  "language_info": {
   "codemirror_mode": {
    "name": "ipython",
    "version": 3
   },
   "file_extension": ".py",
   "mimetype": "text/x-python",
   "name": "python",
   "nbconvert_exporter": "python",
   "pygments_lexer": "ipython3",
   "version": "3.8.6-final"
  },
  "orig_nbformat": 2,
  "kernelspec": {
   "name": "Python 3.8.6 64-bit",
   "display_name": "Python 3.8.6 64-bit",
   "metadata": {
    "interpreter": {
     "hash": "aee8b7b246df8f9039afb4144a1f6fd8d2ca17a180786b69acc140d282b71a49"
    }
   }
  }
 },
 "nbformat": 4,
 "nbformat_minor": 2,
 "cells": [
  {
   "cell_type": "code",
   "execution_count": 1,
   "metadata": {},
   "outputs": [],
   "source": [
    "import numpy as np\n",
    "\n",
    "import matplotlib.pyplot as plt\n",
    "from matplotlib.patches import ConnectionPatch\n",
    "from matplotlib import rcParams\n",
    "from matplotlib import cm\n",
    "from matplotlib.colors import ListedColormap, LinearSegmentedColormap\n",
    "rcParams['mathtext.fontset'] = 'stix'\n",
    "# color map \n",
    "cdict = {'red':   [[0.0,  0.0, 0.0],\n",
    "                   [0.34,  168 / 256, 168 /256],\n",
    "                   [0.67,  243 / 256, 243 / 256],\n",
    "                   [1.0, 1.0, 1.0]],\n",
    "         'green': [[0.0,  0.0, 0.0],\n",
    "                   [0.34, 40 / 256, 40 / 256],\n",
    "                   [0.67, 194 / 256, 194/ 256],\n",
    "                   [1.0,  1.0, 1.0]],\n",
    "         'blue':  [[0.0,  0.0, 0.0],\n",
    "                   [0.34,  15 / 256, 15 / 256],\n",
    "                   [0.67,  93 / 256, 93 /256],\n",
    "                   [1.0, 1.0, 1.0]]}\n",
    "gwyddion = LinearSegmentedColormap('gwyddion', segmentdata = cdict, N = 256)\n",
    "\n",
    "import inspect\n",
    "import os\n",
    "import string\n",
    "import struct\n",
    "import math\n",
    "import re\n",
    "from Nanonis import read_file\n",
    "\n",
    "import ipywidgets as widgets"
   ]
  },
  {
   "cell_type": "code",
   "execution_count": 2,
   "metadata": {},
   "outputs": [],
   "source": [
    "def sxm2figuer(fname):\n",
    "    f = read_file(fname)\n",
    "    \n",
    "    fig, axes = plt.subplots(2, 2, figsize = (6, 6))\n",
    "    for i in range(len(f.data)):\n",
    "        for j in range(len(f.data[i])):\n",
    "            axes[i][j].imshow(f.data[i][j], cmap = gwyddion)\n",
    "            axes[i][j].axis('off')\n",
    "    fig.tight_layout()"
   ]
  },
  {
   "cell_type": "code",
   "execution_count": null,
   "metadata": {},
   "outputs": [],
   "source": [
    "def dat2figure(fname):\n",
    "    "
   ]
  },
  {
   "cell_type": "code",
   "execution_count": 3,
   "metadata": {},
   "outputs": [],
   "source": [
    "def sxm_path_list(folder_path):\n",
    "    \"\"\"\n",
    "    parameter\n",
    "    ---------\n",
    "    foler_path : path of folder\n",
    "\n",
    "    return\n",
    "    ------\n",
    "    path_ls : list of paths of files inside folder \n",
    "    \"\"\"\n",
    "    extensiton_list = ['.sxm']\n",
    "    path_ls = []\n",
    "    # path_dict = {}\n",
    "    file_ls = os.listdir(folder_path)\n",
    "    for i in range(len(file_ls)):\n",
    "        if file_ls[i][-4:] not in extensiton_list:\n",
    "            continue\n",
    "        else:\n",
    "            path_ls.append(os.path.join(folder_path, file_ls[i]))\n",
    "    del file_ls\n",
    "    path_ls.sort()\n",
    "    return path_ls"
   ]
  },
  {
   "cell_type": "code",
   "execution_count": null,
   "metadata": {},
   "outputs": [],
   "source": [
    "def dat_path_list(folder_path):\n",
    "    \"\"\"\n",
    "    parameter\n",
    "    ---------\n",
    "    foler_path : path of folder\n",
    "\n",
    "    return\n",
    "    ------\n",
    "    path_ls : list of paths of files inside folder \n",
    "    \"\"\"\n",
    "    extensiton_list = ['.dat']\n",
    "    path_ls = []\n",
    "    # path_dict = {}\n",
    "    file_ls = os.listdir(folder_path)\n",
    "    for i in range(len(file_ls)):\n",
    "        if file_ls[i][-4:] not in extensiton_list:\n",
    "            continue\n",
    "        else:\n",
    "            path_ls.append(os.path.join(folder_path, file_ls[i]))\n",
    "    del file_ls\n",
    "    path_ls.sort()\n",
    "    return path_ls"
   ]
  },
  {
   "cell_type": "code",
   "execution_count": 14,
   "metadata": {},
   "outputs": [
    {
     "output_type": "display_data",
     "data": {
      "text/plain": "interactive(children=(Dropdown(description='fname', options=('/Users/hunfen/OneDrive/General Files/ゼミー/202011…",
      "application/vnd.jupyter.widget-view+json": {
       "version_major": 2,
       "version_minor": 0,
       "model_id": "36203065d15149b29de868ecdf61b73b"
      }
     },
     "metadata": {}
    }
   ],
   "source": [
    "folder_path = '/Users/hunfen/OneDrive/General Files/ゼミー/20201110/2020-10-31/'\n",
    "widgets.interact(sxm2figuer, fname = sxm_path_list(folder_path));"
   ]
  },
  {
   "cell_type": "code",
   "execution_count": 5,
   "metadata": {},
   "outputs": [],
   "source": [
    "def read_save_time(fname_ls = []):\n",
    "    times = {}\n",
    "    for i in range(len(fname_ls)):\n",
    "        if fname_ls[i][-4:] == '.dat':\n",
    "            f = read_file(fname_ls[i])\n",
    "            times['{}'.format(i + 1).zfill(3)] = f.header['Saved Date']\n",
    "        else:\n",
    "            f = read_file(fname_ls[i])\n",
    "            times['{}'.format(i + 1).zfill(3)] = f.header['REC_TIME']\n",
    "    return times"
   ]
  },
  {
   "cell_type": "code",
   "execution_count": 6,
   "metadata": {},
   "outputs": [
    {
     "output_type": "execute_result",
     "data": {
      "text/plain": [
       "{'001': '13:35:12',\n",
       " '002': '13:44:51',\n",
       " '003': '13:53:29',\n",
       " '004': '14:07:07',\n",
       " '005': '14:21:26',\n",
       " '006': '14:33:19',\n",
       " '007': '14:45:53',\n",
       " '008': '14:58:58',\n",
       " '009': '15:14:44',\n",
       " '010': '16:03:49',\n",
       " '011': '16:18:19',\n",
       " '012': '16:30:06',\n",
       " '013': '17:34:10',\n",
       " '014': '17:56:52',\n",
       " '015': '18:11:32',\n",
       " '016': '18:30:40',\n",
       " '017': '18:48:30',\n",
       " '018': '19:05:25',\n",
       " '019': '19:22:42',\n",
       " '020': '19:35:55'}"
      ]
     },
     "metadata": {},
     "execution_count": 6
    }
   ],
   "source": [
    "folder_path = '/Users/hunfen/OneDrive/General Files/ゼミー/20201110/2020-11-05/'\n",
    "read_save_time(sxm_path_list(folder_path))"
   ]
  },
  {
   "cell_type": "code",
   "execution_count": 9,
   "metadata": {},
   "outputs": [
    {
     "output_type": "execute_result",
     "data": {
      "text/plain": [
       "{'001': '05.11.2020 14:16:44',\n",
       " '002': '05.11.2020 14:17:27',\n",
       " '003': '05.11.2020 14:20:24',\n",
       " '004': '05.11.2020 14:21:08',\n",
       " '005': '05.11.2020 14:30:46',\n",
       " '006': '05.11.2020 14:32:28',\n",
       " '007': '05.11.2020 14:33:07',\n",
       " '008': '05.11.2020 14:42:33',\n",
       " '009': '05.11.2020 14:43:14',\n",
       " '010': '05.11.2020 14:45:34',\n",
       " '011': '05.11.2020 14:55:06',\n",
       " '012': '05.11.2020 14:55:56',\n",
       " '013': '05.11.2020 14:58:00',\n",
       " '014': '05.11.2020 14:58:51',\n",
       " '015': '05.11.2020 15:08:16',\n",
       " '016': '05.11.2020 15:09:12',\n",
       " '017': '05.11.2020 15:10:03',\n",
       " '018': '05.11.2020 15:10:46',\n",
       " '019': '05.11.2020 15:11:34',\n",
       " '020': '05.11.2020 15:12:36',\n",
       " '021': '05.11.2020 16:42:07',\n",
       " '022': '05.11.2020 16:42:52',\n",
       " '023': '05.11.2020 18:09:06',\n",
       " '024': '05.11.2020 18:29:40',\n",
       " '025': '05.11.2020 18:30:21',\n",
       " '026': '05.11.2020 18:43:16',\n",
       " '027': '05.11.2020 18:44:01',\n",
       " '028': '05.11.2020 18:47:33',\n",
       " '029': '05.11.2020 18:48:22',\n",
       " '030': '05.11.2020 18:59:59',\n",
       " '031': '05.11.2020 19:00:39',\n",
       " '032': '05.11.2020 19:03:48',\n",
       " '033': '05.11.2020 19:04:28',\n",
       " '034': '05.11.2020 19:05:17',\n",
       " '035': '05.11.2020 19:14:42',\n",
       " '036': '05.11.2020 19:19:09',\n",
       " '037': '05.11.2020 19:21:48',\n",
       " '038': '05.11.2020 19:22:29',\n",
       " '039': '05.11.2020 19:32:42',\n",
       " '040': '05.11.2020 19:33:27',\n",
       " '041': '05.11.2020 19:34:56',\n",
       " '042': '05.11.2020 19:35:41',\n",
       " '043': '05.11.2020 19:45:09',\n",
       " '044': '05.11.2020 19:45:59',\n",
       " '045': '05.11.2020 19:47:01',\n",
       " '046': '05.11.2020 19:48:28',\n",
       " '047': '05.11.2020 19:48:51',\n",
       " '048': '05.11.2020 19:48:55',\n",
       " '049': '05.11.2020 19:50:00',\n",
       " '050': ''}"
      ]
     },
     "metadata": {},
     "execution_count": 9
    }
   ],
   "source": [
    "read_save_time(dat_path_list(folder_path))"
   ]
  },
  {
   "cell_type": "code",
   "execution_count": 8,
   "metadata": {},
   "outputs": [],
   "source": []
  },
  {
   "cell_type": "code",
   "execution_count": 10,
   "metadata": {},
   "outputs": [
    {
     "output_type": "execute_result",
     "data": {
      "text/plain": [
       "'/Users/hunfen/OneDrive/General Files/ゼミー/20201110/2020-11-05/Bias-Spectroscopy00035.dat'"
      ]
     },
     "metadata": {},
     "execution_count": 10
    }
   ],
   "source": [
    "dat_path_list(folder_path)[1]"
   ]
  },
  {
   "cell_type": "code",
   "execution_count": 13,
   "metadata": {},
   "outputs": [
    {
     "output_type": "execute_result",
     "data": {
      "text/plain": [
       "(401, 7)"
      ]
     },
     "metadata": {},
     "execution_count": 13
    }
   ],
   "source": [
    "f = read_file(dat_path_list(folder_path)[1])\n",
    "f.data.shape"
   ]
  },
  {
   "cell_type": "code",
   "execution_count": null,
   "metadata": {},
   "outputs": [],
   "source": []
  }
 ]
}