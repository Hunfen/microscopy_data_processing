{
 "metadata": {
  "language_info": {
   "codemirror_mode": {
    "name": "ipython",
    "version": 3
   },
   "file_extension": ".py",
   "mimetype": "text/x-python",
   "name": "python",
   "nbconvert_exporter": "python",
   "pygments_lexer": "ipython3",
   "version": "3.8.6-final"
  },
  "orig_nbformat": 2,
  "kernelspec": {
   "name": "python3",
   "display_name": "Python 3.8.6 64-bit",
   "metadata": {
    "interpreter": {
     "hash": "aee8b7b246df8f9039afb4144a1f6fd8d2ca17a180786b69acc140d282b71a49"
    }
   }
  }
 },
 "nbformat": 4,
 "nbformat_minor": 2,
 "cells": [
  {
   "cell_type": "code",
   "execution_count": 1,
   "metadata": {},
   "outputs": [],
   "source": [
    "import numpy as np\n",
    "\n",
    "from matplotlib.patches import Rectangle\n",
    "import matplotlib.pyplot as plt\n",
    "from matplotlib.patches import ConnectionPatch\n",
    "from matplotlib import rcParams\n",
    "from matplotlib import cm\n",
    "from matplotlib.colors import ListedColormap, LinearSegmentedColormap\n",
    "rcParams['mathtext.fontset'] = 'stix'\n",
    "from skimage.feature import peak_local_max\n",
    "from skimage import filters\n",
    "# color map \n",
    "cdict = {'red':   [[0.0,  0.0, 0.0],\n",
    "                   [0.34,  168 / 256, 168 /256],\n",
    "                   [0.67,  243 / 256, 243 / 256],\n",
    "                   [1.0, 1.0, 1.0]],\n",
    "         'green': [[0.0,  0.0, 0.0],\n",
    "                   [0.34, 40 / 256, 40 / 256],\n",
    "                   [0.67, 194 / 256, 194/ 256],\n",
    "                   [1.0,  1.0, 1.0]],\n",
    "         'blue':  [[0.0,  0.0, 0.0],\n",
    "                   [0.34,  15 / 256, 15 / 256],\n",
    "                   [0.67,  93 / 256, 93 /256],\n",
    "                   [1.0, 1.0, 1.0]]}\n",
    "gwyddion = LinearSegmentedColormap('gwyddion', segmentdata = cdict, N = 256)\n",
    "\n",
    "import inspect\n",
    "import os\n",
    "import string\n",
    "import struct\n",
    "import math\n",
    "import re\n",
    "import Nanonis as nano\n",
    "\n",
    "import ipywidgets as widgets"
   ]
  },
  {
   "cell_type": "code",
   "execution_count": null,
   "metadata": {},
   "outputs": [],
   "source": [
    "def sxm2figuer(fname):\n",
    "    f = nano.read_file(fname)\n",
    "    fig, axes = plt.subplots(2, 2, figsize = (6, 6))\n",
    "    for i in range(len(f.data)):\n",
    "        for j in range(len(f.data[i])):\n",
    "            axes[i][j].imshow(f.data[i][j], cmap = gwyddion)\n",
    "            axes[i][j].axis('off')\n",
    "    fig.tight_layout()"
   ]
  },
  {
   "cell_type": "code",
   "execution_count": null,
   "metadata": {},
   "outputs": [],
   "source": [
    "def dat2figure(fname):\n",
    "    f = nano.read_file(fname)\n",
    "    data = f.data\n",
    "    fig, axis = plt.subplots(1, 2, figsize = (10, 5), sharex = True)\n",
    "    for i in range(len(data)):\n",
    "        axis[0].plot(data[i][0], (data[i][4] + data[i][1]) / 2 * 1e12, '.', color = 'black')\n",
    "        axis[1].plot(data[i][0], (data[i][2] + data[i][5]) / 2 * 1e12, '.', color = 'black')\n",
    "    axis[0].axhline(y = 0, ls = '--',color = 'black')\n",
    "    axis[1].axhline(y = 0, ls = '--',color = 'black')\n",
    "    axis[0].set_xlabel(r'$Bias\\ \\mathrm{[V]}$', fontsize = 14)\n",
    "    axis[1].set_xlabel(r'$Bias\\ \\mathrm{[V]}$', fontsize = 14)\n",
    "    axis[0].set_ylabel(r'$Current\\ \\mathrm{[pA]}$', fontsize = 14)\n",
    "    axis[1].set_ylabel(r'$dI/dV\\ \\mathrm{[a.u.]}$', fontsize = 14)\n",
    "    fig.tight_layout();"
   ]
  },
  {
   "cell_type": "code",
   "execution_count": null,
   "metadata": {},
   "outputs": [],
   "source": [
    "folder_path = '/Users/hunfen/OneDrive/General Files/ゼミー/20201124/2020-11-13/'\n",
    "widgets.interact(dat2figure, fname = nano.dat_path_list(folder_path));"
   ]
  },
  {
   "cell_type": "code",
   "execution_count": null,
   "metadata": {},
   "outputs": [],
   "source": [
    "folder_path = '/Users/hunfen/OneDrive/General Files/ゼミー/20201124/2020-11-13/'\n",
    "widgets.interact(sxm2figuer, fname = nano.sxm_path_list(folder_path));"
   ]
  },
  {
   "cell_type": "code",
   "execution_count": null,
   "metadata": {},
   "outputs": [],
   "source": [
    "f = nano.read_file('/Users/hunfen/OneDrive/General Files/ゼミー/20201110/2020-10-31/Topography006.sxm')\n",
    "raw_image = f.data[0][0]\n",
    "# Normalization\n",
    "raw_image_0ffset = raw_image - raw_image.min()\n",
    "normalized_image = raw_image_0ffset/ raw_image_0ffset.max()\n",
    "\n",
    "# Gaussian filter\n",
    "# gaus_filtered_img = filters.gaussian(normalized_image, sigma = 0.6)\n",
    "\n",
    "# 2D DFFT\n",
    "fft2_raw = np.fft.fftshift(np.fft.fft2(normalized_image))\n",
    "# fft2_gaus_filtered_img = np.fft.fftshift(np.fft.fft2(gaus_filtered_img))\n",
    "\n",
    "# Plot the normalized image and FFT image \n",
    "fig, axes = plt.subplots(1, 2, figsize = (10, 5))\n",
    "axes[0].imshow(normalized_image, cmap = gwyddion)\n",
    "axes[0].axis('off')\n",
    "\n",
    "axes[1].imshow(np.log10(np.abs(fft2_raw))[64:192, 64:192], cmap = 'gist_yarg')\n",
    "axes[1].axis('off')\n",
    "#axes[1][0].imshow(gaus_filtered_img, cmap = 'gray')\n",
    "#axes[1][0].axis('off')\n",
    "#axes[1][1].imshow(np.log10(np.abs(fft2_gaus_filtered_img)), cmap = 'gray')\n",
    "#axes[1][1].axis('off')\n",
    "\n",
    "# Find peaks in FFT image\n",
    "# peaks_coordinates = peak_local_max(np.log10(np.abs(fft2_raw)), min_distance = 10)\n",
    "#peaks_coordinates_gaus = peak_local_max(np.log10(np.abs(fft2_gaus_filtered_img)), min_distance = 20)\n",
    "#atoms_coordinates = peak_local_max(nomalized_image, min_distance = 1)\n",
    "\n",
    "# Plot atoms \n",
    "#axes[0].plot(atoms_coordinates[:, 1], atoms_coordinates[:, 0], 'r.')\n",
    "#axes[0].plot([123, 122], [112, 113], ls = '-', color = 'black')\n",
    "\n",
    "# Plot peaks\n",
    "# axes[1].plot(peaks_coordinates[:, 1], peaks_coordinates[:, 0], 'r.')\n",
    "#axes[0][1].plot(peaks_coordinates_gaus[:, 1], peaks_coordinates_gaus[:, 0], 'y.')\n",
    "#axes[1][1].plot(peaks_coordinates_gaus[:, 1], peaks_coordinates_gaus[:, 0], 'b.')\n",
    "#axes[1].plot([64, 87], [64, 76], ls = '-', lw = 1.5, color = 'black')\n",
    "#axes[1].plot([64, 52], [64, 87], ls = '-', lw = 1.5, color = 'black')\n",
    "\n",
    "#L = np.zeros(len(peaks_coordinates))\n",
    "# Calculate length between peaks and center\n",
    "#for i in range(len(peaks_coordinates)):\n",
    "    #L[i] = math.sqrt(((peaks_coordinates[i, 1] - 128) / size) ** 2 + ((peaks_coordinates[i, 0] - 128) / size) ** 2)\n",
    "\n",
    "\n",
    "# 寻找最小值\n",
    "#axes[1].plot(peaks_coordinates[np.argpartition(L, smallest_7)[1: 3], 1], peaks_coordinates[np.argpartition(L, smallest_7)[1: 3], 0], ls = '-', lw = 2, color = 'black')\n",
    "'''\n",
    "for i in range(smallest_7):\n",
    "    axes[1].plot(peaks_coordinates[np.argpartition(L, smallest_7)[i], 1], peaks_coordinates[np.argpartition(L, smallest_7)[i], 0])\n",
    "    #print(L[np.argpartition(L, smallest_7)[i]])\n",
    "'''\n",
    "\n",
    "fig.tight_layout();"
   ]
  },
  {
   "cell_type": "code",
   "execution_count": null,
   "metadata": {},
   "outputs": [],
   "source": [
    "a = np.array([-1, 3])\n",
    "b = np.array([2, 0])\n",
    "\n",
    "theta = math.atan(3/4)\n",
    "rotation = np.array([[math.cos(theta), -math.sin(theta)],[math.sin(theta), math.cos(theta)]])\n",
    "a_ = np.dot(rotation, a)\n",
    "b_ = np.dot(rotation, b)"
   ]
  },
  {
   "cell_type": "code",
   "execution_count": null,
   "metadata": {},
   "outputs": [],
   "source": [
    "f_500 = nano.read_file('/Users/hunfen/OneDrive/General Files/ゼミー/20201110/2020-11-02/Topography001.sxm')\n",
    "f_40 = nano.read_file('/Users/hunfen/OneDrive/General Files/ゼミー/20201110/2020-11-02/Topography002.sxm')\n",
    "f_10 = nano.read_file('/Users/hunfen/OneDrive/General Files/ゼミー/20201110/2020-11-02/Topography008.sxm')\n",
    "extent_500 = nano.topo_extent(f_500.header)\n",
    "extent_40 = nano.topo_extent(f_40.header)\n",
    "extent_10 = nano.topo_extent(f_10.header)\n",
    "\n",
    "# plot\n",
    "fig, axis = plt.subplots(1, 3, figsize = (15, 5))\n",
    "\n",
    "axis[0].axis('off')\n",
    "axis[0].imshow(f_500.data[0][0], extent = extent_500,cmap = gwyddion)\n",
    "# Plot rectangle\n",
    "axis[0].add_patch(Rectangle((extent_40[0], extent_40[2]), f_40.header['SCAN_FILED']['X_RANGE'], f_40.header['SCAN_FILED']['Y_RANGE'], fill = False, ls = '--', color = 'black'))\n",
    "\n",
    "axis[1].axis('off')\n",
    "axis[1].imshow(f_40.data[0][0], extent = extent_40,cmap = gwyddion)\n",
    "axis[1].add_patch(Rectangle((extent_10[0], extent_10[2]), f_10.header['SCAN_FILED']['X_RANGE'], f_10.header['SCAN_FILED']['Y_RANGE'], fill = False, ls = '--', color = 'white'))\n",
    "\n",
    "axis[2].axis('off')\n",
    "axis[2].imshow(f_10.data[0][0], extent = extent_10, cmap = gwyddion)\n",
    "\n",
    "fig.tight_layout();"
   ]
  },
  {
   "cell_type": "code",
   "execution_count": null,
   "metadata": {},
   "outputs": [],
   "source": [
    "f_topo = nano.read_file('/Users/hunfen/OneDrive/General Files/ゼミー/20201110/2020-11-06/Topography008.sxm')\n",
    "f_spec = nano.read_file('/Users/hunfen/OneDrive/General Files/ゼミー/20201110/2020-11-06/Grid Spectroscopy009.3ds')\n",
    "topo_extent = nano.topo_extent(f_topo.header)\n",
    "\n",
    "fig, axis = plt.subplots(1, 2, figsize = (10, 5))\n",
    "\n",
    "axis[0].axis('off')\n",
    "axis[0].imshow(f_topo.data[0][0], extent = topo_extent,cmap = gwyddion)\n",
    "\n",
    "for i in range(len(f_spec.Parameters)):\n",
    "    axis[0].plot(f_spec.Parameters[i][2], f_spec.Parameters[i][3], 'x')\n",
    "    axis[1].plot(np.linspace(f_spec.Parameters[i][0], f_spec.Parameters[i][1], f_spec.header['Points']), f_spec.data[i][4] + 1e-12 * i)\n",
    "\n",
    "\n",
    "axis[1].set_xlabel(r'$Bias\\ \\mathrm{[V]}$', fontsize = 14)\n",
    "axis[1].set_ylabel(r'$dI/dV\\ \\mathrm{[a.u.]}$', fontsize = 14)\n",
    "fig.tight_layout();"
   ]
  },
  {
   "cell_type": "code",
   "execution_count": null,
   "metadata": {},
   "outputs": [],
   "source": [
    "# fig.savefig('/Users/hunfen/OneDrive/General Files/ゼミー/20201110/topo_specs_FeSe_1UC_10_50mV100pA.jpg', dpi = 600)"
   ]
  },
  {
   "cell_type": "code",
   "execution_count": null,
   "metadata": {},
   "outputs": [],
   "source": [
    "f_L = nano.read_file('/Users/hunfen/OneDrive/General Files/ゼミー/20201110/2020-11-06/Topography001.sxm')\n",
    "f_S = nano.read_file('/Users/hunfen/OneDrive/General Files/ゼミー/20201110/2020-11-06/Topography008.sxm')\n",
    "spec = nano.read_file('/Users/hunfen/OneDrive/General Files/ゼミー/20201110/2020-11-06/Grid Spectroscopy001.3ds')\n",
    "extent_L = nano.topo_extent(f_L.header)\n",
    "extent_S = nano.topo_extent(f_S.header)\n",
    "\n",
    "# plot\n",
    "fig, axis = plt.subplots(1, 3, figsize = (15, 5))\n",
    "\n",
    "axis[0].axis('off')\n",
    "axis[0].imshow(f_L.data[0][0], extent = extent_L,cmap = gwyddion)\n",
    "axis[0].add_patch(Rectangle((extent_S[0], extent_S[2]), f_S.header['SCAN_FILED']['X_RANGE'], f_S.header['SCAN_FILED']['Y_RANGE'], fill = False, ls = '--', color = 'white'))\n",
    "\n",
    "axis[1].axis('off')\n",
    "axis[1].imshow(f_S.data[0][0], extent = extent_S, cmap = gwyddion)\n",
    "\n",
    "# specs\n",
    "for i in range(len(spec.Parameters)):\n",
    "    axis[1].plot(spec.Parameters[i][2], spec.Parameters[i][3], 'x')\n",
    "    axis[2].plot(list(np.linspace(spec.Parameters[i][0], spec.Parameters[i][1], spec.header['Points'])), spec.data[i][4] + (i * 1e-12))\n",
    "# axis[2].set_xlim(-0.02,0.03)\n",
    "# axis[2].set_ylim(-0.1e-11, 1e-11)\n",
    "# axis[2].axvline(x = -0.4, ls = '--', color = 'black')\n",
    "axis[2].set_xlabel(r'$Bias\\ \\mathrm{[V]}$', fontsize = 14)\n",
    "axis[2].set_ylabel(r'$dI/dV\\ \\mathrm{[a.u.]}$', fontsize = 14)\n",
    "\n",
    "fig.tight_layout();"
   ]
  },
  {
   "cell_type": "code",
   "execution_count": null,
   "metadata": {},
   "outputs": [],
   "source": [
    "fig.savefig('/Users/hunfen/OneDrive/General Files/ゼミー/20201110/topo_specs_FeSe_1UC_200_10_50mV100pA.jpg', dpi = 600)"
   ]
  },
  {
   "cell_type": "code",
   "execution_count": null,
   "metadata": {},
   "outputs": [],
   "source": [
    "f_L.header"
   ]
  },
  {
   "cell_type": "code",
   "execution_count": null,
   "metadata": {},
   "outputs": [],
   "source": [
    "spec.header['Channels']"
   ]
  },
  {
   "cell_type": "code",
   "execution_count": 18,
   "metadata": {},
   "outputs": [
    {
     "output_type": "display_data",
     "data": {
      "text/plain": "interactive(children=(Text(value='0', description='start'), Text(value='0', description='ML'), Text(value='60'…",
      "application/vnd.jupyter.widget-view+json": {
       "version_major": 2,
       "version_minor": 0,
       "model_id": "73c7fda7895d4e7fa26240f6cf38dceb"
      }
     },
     "metadata": {}
    }
   ],
   "source": []
  },
  {
   "cell_type": "code",
   "execution_count": 8,
   "metadata": {},
   "outputs": [
    {
     "output_type": "display_data",
     "data": {
      "text/plain": "interactive(children=(BoundedFloatText(value=0.0, description='voltage', max=110.0, step=0.1), BoundedFloatTex…",
      "application/vnd.jupyter.widget-view+json": {
       "version_major": 2,
       "version_minor": 0,
       "model_id": "7599b68504264cbdb611deca97ce202a"
      }
     },
     "metadata": {}
    }
   ],
   "source": []
  },
  {
   "cell_type": "code",
   "execution_count": null,
   "metadata": {},
   "outputs": [],
   "source": [
    "math.atan(0.3 / 1.6) / np.pi * 180"
   ]
  },
  {
   "cell_type": "code",
   "execution_count": null,
   "metadata": {},
   "outputs": [],
   "source": [
    "math.atan(1) / np.pi"
   ]
  },
  {
   "cell_type": "code",
   "execution_count": null,
   "metadata": {},
   "outputs": [],
   "source": []
  }
 ]
}