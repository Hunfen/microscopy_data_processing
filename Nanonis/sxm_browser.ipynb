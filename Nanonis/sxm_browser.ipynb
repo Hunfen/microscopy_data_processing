{
 "metadata": {
  "language_info": {
   "codemirror_mode": {
    "name": "ipython",
    "version": 3
   },
   "file_extension": ".py",
   "mimetype": "text/x-python",
   "name": "python",
   "nbconvert_exporter": "python",
   "pygments_lexer": "ipython3",
   "version": "3.8.6-final"
  },
  "orig_nbformat": 2,
  "kernelspec": {
   "name": "Python 3.8.6 64-bit",
   "display_name": "Python 3.8.6 64-bit",
   "metadata": {
    "interpreter": {
     "hash": "aee8b7b246df8f9039afb4144a1f6fd8d2ca17a180786b69acc140d282b71a49"
    }
   }
  }
 },
 "nbformat": 4,
 "nbformat_minor": 2,
 "cells": [
  {
   "cell_type": "code",
   "execution_count": 1,
   "metadata": {},
   "outputs": [],
   "source": [
    "import numpy as np\n",
    "\n",
    "import matplotlib.pyplot as plt\n",
    "from matplotlib.patches import ConnectionPatch\n",
    "from matplotlib import rcParams\n",
    "from matplotlib import cm\n",
    "from matplotlib.colors import ListedColormap, LinearSegmentedColormap\n",
    "rcParams['mathtext.fontset'] = 'stix'\n",
    "# color map \n",
    "cdict = {'red':   [[0.0,  0.0, 0.0],\n",
    "                   [0.34,  168 / 256, 168 /256],\n",
    "                   [0.67,  243 / 256, 243 / 256],\n",
    "                   [1.0, 1.0, 1.0]],\n",
    "         'green': [[0.0,  0.0, 0.0],\n",
    "                   [0.34, 40 / 256, 40 / 256],\n",
    "                   [0.67, 194 / 256, 194/ 256],\n",
    "                   [1.0,  1.0, 1.0]],\n",
    "         'blue':  [[0.0,  0.0, 0.0],\n",
    "                   [0.34,  15 / 256, 15 / 256],\n",
    "                   [0.67,  93 / 256, 93 /256],\n",
    "                   [1.0, 1.0, 1.0]]}\n",
    "gwyddion = LinearSegmentedColormap('gwyddion', segmentdata = cdict, N = 256)\n",
    "\n",
    "import inspect\n",
    "import os\n",
    "import string\n",
    "import struct\n",
    "import math\n",
    "import re\n",
    "from Nanonis import read_file\n",
    "\n",
    "import ipywidgets as widgets"
   ]
  },
  {
   "cell_type": "code",
   "execution_count": null,
   "metadata": {},
   "outputs": [],
   "source": [
    "def sxm2figuer(fname):\n",
    "    f = read_file(fname)\n",
    "    \n",
    "    fig, axes = plt.subplots(2, 2, figsize = (6, 6))\n",
    "    for i in range(len(f.data)):\n",
    "        for j in range(len(f.data[i])):\n",
    "            axes[i][j].imshow(f.data[i][j], cmap = gwyddion)\n",
    "            axes[i][j].axis('off')\n",
    "    fig.tight_layout()"
   ]
  },
  {
   "cell_type": "code",
   "execution_count": null,
   "metadata": {},
   "outputs": [],
   "source": [
    "def dat2figure(fname):\n",
    "    "
   ]
  },
  {
   "cell_type": "code",
   "execution_count": null,
   "metadata": {},
   "outputs": [],
   "source": [
    "def sxm_path_list(folder_path):\n",
    "    \"\"\"\n",
    "    parameter\n",
    "    ---------\n",
    "    foler_path : path of folder\n",
    "\n",
    "    return\n",
    "    ------\n",
    "    path_ls : list of paths of files inside folder \n",
    "    \"\"\"\n",
    "    extensiton_list = ['.sxm']\n",
    "    path_ls = []\n",
    "    # path_dict = {}\n",
    "    file_ls = os.listdir(folder_path)\n",
    "    for i in range(len(file_ls)):\n",
    "        if file_ls[i][-4:] not in extensiton_list:\n",
    "            continue\n",
    "        else:\n",
    "            path_ls.append(os.path.join(folder_path, file_ls[i]))\n",
    "    del file_ls\n",
    "    path_ls.sort()\n",
    "    return path_ls"
   ]
  },
  {
   "cell_type": "code",
   "execution_count": null,
   "metadata": {},
   "outputs": [],
   "source": [
    "def dat_path_list(folder_path):\n",
    "    \"\"\"\n",
    "    parameter\n",
    "    ---------\n",
    "    foler_path : path of folder\n",
    "\n",
    "    return\n",
    "    ------\n",
    "    path_ls : list of paths of files inside folder \n",
    "    \"\"\"\n",
    "    extensiton_list = ['.dat']\n",
    "    path_ls = []\n",
    "    # path_dict = {}\n",
    "    file_ls = os.listdir(folder_path)\n",
    "    for i in range(len(file_ls)):\n",
    "        if file_ls[i][-4:] not in extensiton_list:\n",
    "            continue\n",
    "        else:\n",
    "            path_ls.append(os.path.join(folder_path, file_ls[i]))\n",
    "    del file_ls\n",
    "    path_ls.sort()\n",
    "    return path_ls"
   ]
  },
  {
   "cell_type": "code",
   "execution_count": null,
   "metadata": {},
   "outputs": [],
   "source": [
    "folder_path = '/Users/hunfen/OneDrive/General Files/ゼミー/20201110/2020-10-31/'\n",
    "widgets.interact(sxm2figuer, fname = sxm_path_list(folder_path));"
   ]
  },
  {
   "cell_type": "code",
   "execution_count": null,
   "metadata": {},
   "outputs": [],
   "source": [
    "def read_save_time(fname_ls = []):\n",
    "    times = {}\n",
    "    for i in range(len(fname_ls)):\n",
    "        if fname_ls[i][-4:] == '.dat':\n",
    "            f = read_file(fname_ls[i])\n",
    "            times['{}'.format(i + 1).zfill(3)] = f.header['Saved Date']\n",
    "        else:\n",
    "            f = read_file(fname_ls[i])\n",
    "            times['{}'.format(i + 1).zfill(3)] = f.header['REC_TIME']\n",
    "    return times"
   ]
  },
  {
   "cell_type": "code",
   "execution_count": null,
   "metadata": {},
   "outputs": [],
   "source": [
    "folder_path = '/Users/hunfen/OneDrive/General Files/ゼミー/20201110/2020-11-05/'\n",
    "read_save_time(sxm_path_list(folder_path))"
   ]
  },
  {
   "cell_type": "code",
   "execution_count": null,
   "metadata": {},
   "outputs": [],
   "source": [
    "read_save_time(dat_path_list(folder_path))"
   ]
  },
  {
   "cell_type": "code",
   "execution_count": 2,
   "metadata": {},
   "outputs": [],
   "source": [
    "f_path = '/Users/hunfen/OneDrive/General Files/ゼミー/20201110/2020-11-06/Grid Spectroscopy001.3ds'\n",
    "f = read_file(f_path)"
   ]
  },
  {
   "cell_type": "code",
   "execution_count": 4,
   "metadata": {},
   "outputs": [],
   "source": [
    "data = f.data"
   ]
  },
  {
   "cell_type": "code",
   "execution_count": 5,
   "metadata": {},
   "outputs": [
    {
     "output_type": "execute_result",
     "data": {
      "text/plain": [
       "(9, 18, 401)"
      ]
     },
     "metadata": {},
     "execution_count": 5
    }
   ],
   "source": [
    "data.shape"
   ]
  },
  {
   "cell_type": "code",
   "execution_count": 6,
   "metadata": {},
   "outputs": [],
   "source": [
    "header = f.header"
   ]
  },
  {
   "cell_type": "code",
   "execution_count": 7,
   "metadata": {},
   "outputs": [
    {
     "output_type": "execute_result",
     "data": {
      "text/plain": [
       "{'Grid dim': (3, 3),\n",
       " 'Grid settings': {'X_OFFSET': -5.462045e-07,\n",
       "  'Y_OFFSET': 4.979166e-07,\n",
       "  'X_RANGE': 1e-08,\n",
       "  'Y_RANGE': 1e-08,\n",
       "  'ANGLE': 0.0},\n",
       " 'Filetype': 'Linear',\n",
       " 'Sweep Signal': 'Bias (V)',\n",
       " '# Parameters (4 byte)': 12,\n",
       " 'Experiment size (bytes)': 28872,\n",
       " 'Points': 401,\n",
       " 'Channels': ['Current [AVG] (A)',\n",
       "  'LI Demod 1 X [AVG] (A)',\n",
       "  'LI Demod 1 Y [AVG] (A)',\n",
       "  'Current [00001] (A)',\n",
       "  'LI Demod 1 X [00001] (A)',\n",
       "  'LI Demod 1 Y [00001] (A)',\n",
       "  'Current [00002] (A)',\n",
       "  'LI Demod 1 X [00002] (A)',\n",
       "  'LI Demod 1 Y [00002] (A)',\n",
       "  'Current [AVG] [bwd] (A)',\n",
       "  'LI Demod 1 X [AVG] [bwd] (A)',\n",
       "  'LI Demod 1 Y [AVG] [bwd] (A)',\n",
       "  'Current [00001] [bwd] (A)',\n",
       "  'LI Demod 1 X [00001] [bwd] (A)',\n",
       "  'LI Demod 1 Y [00001] [bwd] (A)',\n",
       "  'Current [00002] [bwd] (A)',\n",
       "  'LI Demod 1 X [00002] [bwd] (A)',\n",
       "  'LI Demod 1 Y [00002] [bwd] (A)'],\n",
       " 'Delay before measuring (s)': 0.0,\n",
       " 'Experiment': 'Grid Spectroscopy',\n",
       " 'Start time': '06.11.2020 12:11:11',\n",
       " 'End time': '06.11.2020 12:16:16',\n",
       " 'User': '',\n",
       " 'Comment': '',\n",
       " 'Parameters': ['Sweep Start',\n",
       "  'Sweep End',\n",
       "  'X (m)',\n",
       "  'Y (m)',\n",
       "  'Z (m)',\n",
       "  'Z offset (m)',\n",
       "  'Settling time (s)',\n",
       "  'Integration time (s)',\n",
       "  'Z-Ctrl hold',\n",
       "  'Final Z (m)',\n",
       "  'Scan:Current (A)',\n",
       "  'Scan:Z (m)'],\n",
       " 'num_Channels': 18}"
      ]
     },
     "metadata": {},
     "execution_count": 7
    }
   ],
   "source": [
    "header"
   ]
  },
  {
   "cell_type": "code",
   "execution_count": null,
   "metadata": {},
   "outputs": [],
   "source": [
    "spec_parameters = np.zeros((9, 12))"
   ]
  },
  {
   "cell_type": "code",
   "execution_count": null,
   "metadata": {},
   "outputs": [],
   "source": [
    "spec_parameters[0]"
   ]
  },
  {
   "cell_type": "code",
   "execution_count": null,
   "metadata": {},
   "outputs": [],
   "source": [
    "data = f.data"
   ]
  },
  {
   "cell_type": "code",
   "execution_count": null,
   "metadata": {},
   "outputs": [],
   "source": [
    "data[14460]"
   ]
  },
  {
   "cell_type": "code",
   "execution_count": null,
   "metadata": {},
   "outputs": [],
   "source": [
    "spec = data[413:814]"
   ]
  },
  {
   "cell_type": "code",
   "execution_count": null,
   "metadata": {},
   "outputs": [],
   "source": [
    "v = np.linspace(1, -1, 401)\n",
    "fig, axis = plt.subplots()\n",
    "axis.plot(v, spec)"
   ]
  },
  {
   "cell_type": "code",
   "execution_count": null,
   "metadata": {},
   "outputs": [],
   "source": []
  }
 ]
}