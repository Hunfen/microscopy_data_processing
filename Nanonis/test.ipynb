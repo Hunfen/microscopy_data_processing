{
 "metadata": {
  "language_info": {
   "codemirror_mode": {
    "name": "ipython",
    "version": 3
   },
   "file_extension": ".py",
   "mimetype": "text/x-python",
   "name": "python",
   "nbconvert_exporter": "python",
   "pygments_lexer": "ipython3",
   "version": "3.8.6-final"
  },
  "orig_nbformat": 2,
  "kernelspec": {
   "name": "Python 3.8.6 64-bit",
   "display_name": "Python 3.8.6 64-bit",
   "metadata": {
    "interpreter": {
     "hash": "aee8b7b246df8f9039afb4144a1f6fd8d2ca17a180786b69acc140d282b71a49"
    }
   }
  }
 },
 "nbformat": 4,
 "nbformat_minor": 2,
 "cells": [
  {
   "cell_type": "code",
   "execution_count": 6,
   "metadata": {},
   "outputs": [],
   "source": [
    "path = '/Users/hunfen/OneDrive/General Files/ゼミー/20201110/2020-11-04/Topography005.sxm'\n",
    "from Nanonis import read_file\n",
    "f = read_file(path)"
   ]
  },
  {
   "cell_type": "code",
   "execution_count": 7,
   "metadata": {},
   "outputs": [
    {
     "output_type": "execute_result",
     "data": {
      "text/plain": [
       "{'NANONIS_VERSION': '2',\n",
       " 'SCANIT_TYPE': '              FLOAT            MSBFIRST',\n",
       " 'REC_DATE': ' 04.11.2020',\n",
       " 'REC_TIME': '13:00:07',\n",
       " 'REC_TEMP': '      290.0000000000',\n",
       " 'ACQ_TIME': '       256.3',\n",
       " 'SCAN_PIXELS': '       128       128',\n",
       " 'SCAN_FILE': 'C:\\\\Users\\\\Touru Hirahara\\\\Desktop\\\\data\\\\2020\\\\2020-11-04\\\\Topography005.sxm',\n",
       " 'SCAN_TIME': '             9.984E-1             9.984E-1',\n",
       " 'SCAN_RANGE': '           1.000000E-8           1.000000E-8',\n",
       " 'SCAN_OFFSET': '             3.490000E-7         5.771677E-7',\n",
       " 'SCAN_ANGLE': '            0.000E+0',\n",
       " 'SCAN_DIR': 'down',\n",
       " 'BIAS': '            1.500E+0',\n",
       " 'Z-CONTROLLER': '\\tName\\ton\\tSetpoint\\tP-gain\\tI-gain\\tT-const\\n\\tlog Current\\t1\\t2.000E-11 A\\t2.000E-12 m\\t2.500E-7 m/s\\t8.000E-6 s',\n",
       " 'COMMENT': 'Tilt corrected by Topography019.sxm',\n",
       " 'Scan>Scanfield': '349E-9;577.168E-9;10E-9;10E-9;0E+0',\n",
       " 'Scan>series name': 'Topography',\n",
       " 'Scan>channels': 'Current (A);Z (m)',\n",
       " 'Scan>pixels/line': '128',\n",
       " 'Scan>lines': '128',\n",
       " 'Scan>speed forw. (m/s)': '10.016E-9',\n",
       " 'Scan>speed backw. (m/s)': '10.016E-9',\n",
       " 'DATA_INFO': '\\tChannel\\tName\\tUnit\\tDirection\\tCalibration\\tOffset\\n\\t14\\tZ\\tm\\tboth\\t1.291E-8\\t0.000E+0\\n\\t0\\tCurrent\\tA\\tboth\\t1.000E-10\\t0.000E+0'}"
      ]
     },
     "metadata": {},
     "execution_count": 7
    }
   ],
   "source": [
    "f.raw_header"
   ]
  },
  {
   "cell_type": "code",
   "execution_count": 8,
   "metadata": {},
   "outputs": [
    {
     "output_type": "execute_result",
     "data": {
      "text/plain": [
       "{'REC_DATE': '04.11.2020',\n",
       " 'REC_TIME': '13:00:07',\n",
       " 'ACQ_TIME': 256.3,\n",
       " 'SCAN_FILE': 'C:\\\\Users\\\\Touru Hirahara\\\\Desktop\\\\data\\\\2020\\\\2020-11-04\\\\Topography005.sxm',\n",
       " 'SCAN_DIR': 'down',\n",
       " 'BIAS': 1.5,\n",
       " 'COMMENT': 'Tilt corrected by Topography019.sxm',\n",
       " 'Scan>series name': 'Topography',\n",
       " 'Scan>pixels/line': 128.0,\n",
       " 'Scan>lines': 128.0,\n",
       " 'Scan>speed forw. (m/s)': 1.0016e-08,\n",
       " 'Scan>speed backw. (m/s)': 1.0016e-08,\n",
       " 'SCAN_FILED': {'X_OFFSET': 3.49e-07,\n",
       "  'Y_OFFSET': 5.77168e-07,\n",
       "  'X_RANGE': 1e-08,\n",
       "  'Y_RANGE': 1e-08,\n",
       "  'ANGLE': 0.0},\n",
       " 'CONTROLLER_INFO': {'Name': 'log Current',\n",
       "  'on': '1',\n",
       "  'Setpoint': '2.000E-11 A',\n",
       "  'P-gain': '2.000E-12 m',\n",
       "  'I-gain': '2.500E-7 m/s',\n",
       "  'T-const': '8.000E-6 s'},\n",
       " 'CHANNEL_INFO': {'14': {'Name': 'Z',\n",
       "   'Unit': 'm',\n",
       "   'Direction': 'both',\n",
       "   'Calibration': '1.291E-8',\n",
       "   'Offset': '0.000E+0'},\n",
       "  '0': {'Name': 'Current',\n",
       "   'Unit': 'A',\n",
       "   'Direction': 'both',\n",
       "   'Calibration': '1.000E-10',\n",
       "   'Offset': '0.000E+0'}}}"
      ]
     },
     "metadata": {},
     "execution_count": 8
    }
   ],
   "source": [
    "f.header"
   ]
  },
  {
   "cell_type": "code",
   "execution_count": 9,
   "metadata": {},
   "outputs": [
    {
     "output_type": "execute_result",
     "data": {
      "text/plain": [
       "4"
      ]
     },
     "metadata": {},
     "execution_count": 9
    }
   ],
   "source": [
    "f.num_channels"
   ]
  },
  {
   "cell_type": "code",
   "execution_count": 10,
   "metadata": {},
   "outputs": [
    {
     "output_type": "execute_result",
     "data": {
      "text/plain": [
       "array([[[[-6.8160197e-08, -6.8162258e-08, -6.8161071e-08, ...,\n",
       "          -6.8143777e-08, -6.8142704e-08, -6.8142135e-08],\n",
       "         [-6.8157206e-08, -6.8156801e-08, -6.8163899e-08, ...,\n",
       "          -6.8139485e-08, -6.8141020e-08, -6.8144395e-08],\n",
       "         [-6.8155366e-08, -6.8155352e-08, -6.8154769e-08, ...,\n",
       "          -6.8147052e-08, -6.8145717e-08, -6.8143734e-08],\n",
       "         ...,\n",
       "         [-6.8041068e-08, -6.8047662e-08, -6.8044116e-08, ...,\n",
       "          -6.8048870e-08, -6.8051577e-08, -6.8049211e-08],\n",
       "         [-6.8043477e-08, -6.8044173e-08, -6.8045821e-08, ...,\n",
       "          -6.8049559e-08, -6.8046731e-08, -6.8054163e-08],\n",
       "         [-6.8045757e-08, -6.8046923e-08, -6.8047342e-08, ...,\n",
       "          -6.8049985e-08, -6.8049140e-08, -6.8048145e-08]],\n",
       "\n",
       "        [[-6.8153085e-08, -6.8159729e-08, -6.8163466e-08, ...,\n",
       "          -6.8141624e-08, -6.8143116e-08, -6.8140004e-08],\n",
       "         [-6.8157050e-08, -6.8157313e-08, -6.8157966e-08, ...,\n",
       "          -6.8143848e-08, -6.8145795e-08, -6.8146058e-08],\n",
       "         [-6.8156645e-08, -6.8154115e-08, -6.8157263e-08, ...,\n",
       "          -6.8144203e-08, -6.8145241e-08, -6.8142100e-08],\n",
       "         ...,\n",
       "         [-6.8048230e-08, -6.8045395e-08, -6.8047640e-08, ...,\n",
       "          -6.8053396e-08, -6.8051534e-08, -6.8054781e-08],\n",
       "         [-6.8046226e-08, -6.8046845e-08, -6.8047697e-08, ...,\n",
       "          -6.8050298e-08, -6.8052927e-08, -6.8054675e-08],\n",
       "         [-6.8045331e-08, -6.8046958e-08, -6.8049829e-08, ...,\n",
       "          -6.8045487e-08, -6.8049594e-08, -6.8050205e-08]]],\n",
       "\n",
       "\n",
       "       [[[ 2.2208473e-11,  2.2427327e-11,  2.1750456e-11, ...,\n",
       "           2.2392007e-11,  2.1695435e-11,  2.2476396e-11],\n",
       "         [ 2.0972299e-11,  2.1181768e-11,  2.4134257e-11, ...,\n",
       "           2.0464871e-11,  2.1262660e-11,  2.2055427e-11],\n",
       "         [ 2.1793340e-11,  2.0956459e-11,  2.0607132e-11, ...,\n",
       "           2.4334494e-11,  2.3370727e-11,  2.2986639e-11],\n",
       "         ...,\n",
       "         [ 1.9390569e-11,  2.3135180e-11,  2.1570088e-11, ...,\n",
       "           2.1639772e-11,  2.2177839e-11,  2.1479700e-11],\n",
       "         [ 2.1235090e-11,  2.2210452e-11,  2.2156162e-11, ...,\n",
       "           2.1991407e-11,  2.0716579e-11,  2.3031223e-11],\n",
       "         [ 2.2065606e-11,  2.2785562e-11,  2.2731260e-11, ...,\n",
       "           2.2744801e-11,  2.1932655e-11,  2.1435125e-11]],\n",
       "\n",
       "        [[ 1.9869167e-11,  2.2030815e-11,  2.3536652e-11, ...,\n",
       "           2.1756926e-11,  2.2267525e-11,  2.1337286e-11],\n",
       "         [ 2.2060973e-11,  2.2173957e-11,  2.1702067e-11, ...,\n",
       "           2.2429003e-11,  2.3426948e-11,  2.3209866e-11],\n",
       "         [ 2.1977208e-11,  2.0907484e-11,  2.1635114e-11, ...,\n",
       "           2.2744893e-11,  2.3087209e-11,  2.2075794e-11],\n",
       "         ...,\n",
       "         [ 2.3351319e-11,  2.2198136e-11,  2.3359887e-11, ...,\n",
       "           2.3594831e-11,  2.2082426e-11,  2.3316042e-11],\n",
       "         [ 2.2054742e-11,  2.2178957e-11,  2.3287096e-11, ...,\n",
       "           2.2733990e-11,  2.3354029e-11,  2.3559791e-11],\n",
       "         [ 2.1788496e-11,  2.2561114e-11,  2.3851541e-11, ...,\n",
       "           2.0723936e-11,  2.1762531e-11,  2.1691633e-11]]]],\n",
       "      dtype=float32)"
      ]
     },
     "metadata": {},
     "execution_count": 10
    }
   ],
   "source": [
    "f.data"
   ]
  },
  {
   "cell_type": "code",
   "execution_count": null,
   "metadata": {},
   "outputs": [],
   "source": []
  }
 ]
}