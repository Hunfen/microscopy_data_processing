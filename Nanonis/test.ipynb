{
 "metadata": {
  "language_info": {
   "codemirror_mode": {
    "name": "ipython",
    "version": 3
   },
   "file_extension": ".py",
   "mimetype": "text/x-python",
   "name": "python",
   "nbconvert_exporter": "python",
   "pygments_lexer": "ipython3",
   "version": "3.8.6-final"
  },
  "orig_nbformat": 2,
  "kernelspec": {
   "name": "Python 3.8.6 64-bit",
   "display_name": "Python 3.8.6 64-bit",
   "metadata": {
    "interpreter": {
     "hash": "aee8b7b246df8f9039afb4144a1f6fd8d2ca17a180786b69acc140d282b71a49"
    }
   }
  }
 },
 "nbformat": 4,
 "nbformat_minor": 2,
 "cells": [
  {
   "cell_type": "code",
   "execution_count": null,
   "metadata": {},
   "outputs": [],
   "source": [
    "path = '/Users/hunfen/OneDrive/General Files/ゼミー/20201110/2020-11-04/Topography005.sxm'\n",
    "from Nanonis import read_file\n",
    "f = read_file(path)"
   ]
  },
  {
   "cell_type": "code",
   "execution_count": null,
   "metadata": {},
   "outputs": [],
   "source": [
    "f.raw_header"
   ]
  },
  {
   "cell_type": "code",
   "execution_count": null,
   "metadata": {},
   "outputs": [],
   "source": [
    "f.header"
   ]
  },
  {
   "cell_type": "code",
   "execution_count": null,
   "metadata": {},
   "outputs": [],
   "source": [
    "f.num_channels"
   ]
  },
  {
   "cell_type": "code",
   "execution_count": null,
   "metadata": {},
   "outputs": [],
   "source": [
    "f.data"
   ]
  },
  {
   "cell_type": "code",
   "execution_count": 6,
   "metadata": {},
   "outputs": [],
   "source": [
    "        scan_info_str = ['REC_DATE',\n",
    "                         'REC_TIME',\n",
    "                         'SCAN_FILE',\n",
    "                         'SCAN_DIR',\n",
    "                         'COMMENT'\n",
    "                         ]"
   ]
  },
  {
   "cell_type": "code",
   "execution_count": 7,
   "metadata": {},
   "outputs": [],
   "source": [
    "scan_info_str.sort()"
   ]
  },
  {
   "cell_type": "code",
   "execution_count": 8,
   "metadata": {},
   "outputs": [
    {
     "output_type": "execute_result",
     "data": {
      "text/plain": [
       "['COMMENT', 'REC_DATE', 'REC_TIME', 'SCAN_DIR', 'SCAN_FILE']"
      ]
     },
     "metadata": {},
     "execution_count": 8
    }
   ],
   "source": [
    "scan_info_str"
   ]
  },
  {
   "cell_type": "code",
   "execution_count": 17,
   "metadata": {},
   "outputs": [],
   "source": [
    "table = ['BIAS',\n",
    "                           'ACQ_TIME',\n",
    "                           'Scan>pixels/line',\n",
    "                           'Scan>lines',\n",
    "                           'Scan>speed forw. (m/s)',\n",
    "                           'Scan>speed backw. (m/s)'\n",
    "                           ]\n",
    "table.sort()"
   ]
  },
  {
   "cell_type": "code",
   "execution_count": 18,
   "metadata": {},
   "outputs": [
    {
     "output_type": "execute_result",
     "data": {
      "text/plain": [
       "['ACQ_TIME',\n",
       " 'BIAS',\n",
       " 'Scan>lines',\n",
       " 'Scan>pixels/line',\n",
       " 'Scan>speed backw. (m/s)',\n",
       " 'Scan>speed forw. (m/s)']"
      ]
     },
     "metadata": {},
     "execution_count": 18
    }
   ],
   "source": [
    "table\n",
    "                "
   ]
  },
  {
   "cell_type": "code",
   "execution_count": 14,
   "metadata": {},
   "outputs": [
    {
     "output_type": "execute_result",
     "data": {
      "text/plain": [
       "['ANGLE', 'X_OFFSET', 'X_RANGE', 'Y_OFFSET', 'Y_RANGE']"
      ]
     },
     "metadata": {},
     "execution_count": 14
    }
   ],
   "source": [
    "        scan_field_key "
   ]
  },
  {
   "cell_type": "code",
   "execution_count": null,
   "metadata": {},
   "outputs": [],
   "source": []
  }
 ]
}